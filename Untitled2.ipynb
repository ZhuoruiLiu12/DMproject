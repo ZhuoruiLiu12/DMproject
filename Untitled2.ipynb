{
 "cells": [
  {
   "cell_type": "code",
   "execution_count": 33,
   "id": "250ddf99",
   "metadata": {},
   "outputs": [],
   "source": [
    "#coding:utf-8\n",
    "#data operation package \n",
    "import pandas as pd\n",
    "import numpy as np\n",
    "\n",
    "\n",
    "#show the result with picture\n",
    "import seaborn as sns\n",
    "from matplotlib import pyplot as plt\n",
    "#show the datetime info\n",
    "from datetime import datetime\n",
    "from  sklearn  import  preprocessing\n",
    "\n",
    "from sklearn.model_selection import train_test_split\n",
    "from pre_data import convertDistance, convertRate\n",
    "%matplotlib inline"
   ]
  },
  {
   "cell_type": "code",
   "execution_count": 34,
   "id": "09b0f5ae",
   "metadata": {},
   "outputs": [
    {
     "name": "stderr",
     "output_type": "stream",
     "text": [
      "C:\\Users\\24582\\AppData\\Local\\Temp\\ipykernel_20576\\1959929184.py:5: SettingWithCopyWarning: \n",
      "A value is trying to be set on a copy of a slice from a DataFrame.\n",
      "Try using .loc[row_indexer,col_indexer] = value instead\n",
      "\n",
      "See the caveats in the documentation: https://pandas.pydata.org/pandas-docs/stable/user_guide/indexing.html#returning-a-view-versus-a-copy\n",
      "  X_data['Discount_rate'] = X_data['Discount_rate'].apply(convertRate)\n"
     ]
    },
    {
     "name": "stdout",
     "output_type": "stream",
     "text": [
      "X_data is  (1053282, 6)\n",
      "         User_id  Merchant_id  Coupon_id  Distance  Date_received   \n",
      "0        1439408         4663    11002.0         1     20160528.0  \\\n",
      "1        1439408         2632     8591.0         0     20160217.0   \n",
      "2        1439408         2632     1078.0         0     20160319.0   \n",
      "3        1439408         2632     8591.0         0     20160613.0   \n",
      "4        1439408         2632     8591.0         0     20160516.0   \n",
      "...          ...          ...        ...       ...            ...   \n",
      "1053277   212662         3021     3739.0         6     20160504.0   \n",
      "1053278   212662         2934     5686.0         2     20160321.0   \n",
      "1053279   212662         3021     3739.0         6     20160508.0   \n",
      "1053280   752472         7113     1633.0         6     20160613.0   \n",
      "1053281   752472         3621     2705.0         0     20160523.0   \n",
      "\n",
      "         Discount_rate  \n",
      "0                 0.87  \n",
      "1                 0.95  \n",
      "2                 0.95  \n",
      "3                 0.95  \n",
      "4                 0.95  \n",
      "...                ...  \n",
      "1053277           0.97  \n",
      "1053278           0.83  \n",
      "1053279           0.97  \n",
      "1053280           0.80  \n",
      "1053281           0.75  \n",
      "\n",
      "[1053282 rows x 6 columns]\n",
      "label\n",
      "0    977900\n",
      "1     75382\n",
      "Name: count, dtype: int64\n"
     ]
    },
    {
     "name": "stderr",
     "output_type": "stream",
     "text": [
      "C:\\Users\\24582\\AppData\\Local\\Temp\\ipykernel_20576\\1959929184.py:6: SettingWithCopyWarning: \n",
      "A value is trying to be set on a copy of a slice from a DataFrame.\n",
      "Try using .loc[row_indexer,col_indexer] = value instead\n",
      "\n",
      "See the caveats in the documentation: https://pandas.pydata.org/pandas-docs/stable/user_guide/indexing.html#returning-a-view-versus-a-copy\n",
      "  X_data['Distance'] = X_data['Distance'].apply(convertDistance)\n"
     ]
    }
   ],
   "source": [
    "train = pd.read_csv('datasets/offline_train.csv/processed_offline_train.csv')\n",
    "select_columns=['User_id', 'Merchant_id', 'Coupon_id',  'Distance',\n",
    "       'Date_received', 'Discount_rate']\n",
    "X_data = train[select_columns]\n",
    "X_data['Discount_rate'] = X_data['Discount_rate'].apply(convertRate)\n",
    "X_data['Distance'] = X_data['Distance'].apply(convertDistance)\n",
    "y_label = train['label']\n",
    "print(\"X_data is \",np.shape(X_data))\n",
    "print(X_data)\n",
    "print(y_label.value_counts())"
   ]
  },
  {
   "cell_type": "code",
   "execution_count": 35,
   "id": "bd1f5ab1",
   "metadata": {},
   "outputs": [],
   "source": [
    "from sklearn.preprocessing import MinMaxScaler#导入包\n",
    "min_max_scaler = MinMaxScaler()#创建模型\n",
    "X_data_normal = pd.DataFrame(min_max_scaler.fit_transform(X_data),columns=X_data.columns)"
   ]
  },
  {
   "cell_type": "code",
   "execution_count": 36,
   "id": "93ee1646",
   "metadata": {},
   "outputs": [],
   "source": [
    "from imblearn.over_sampling import SMOTE"
   ]
  },
  {
   "cell_type": "code",
   "execution_count": 37,
   "id": "e5cf2d17",
   "metadata": {},
   "outputs": [],
   "source": [
    "smote = SMOTE(random_state=42)"
   ]
  },
  {
   "cell_type": "code",
   "execution_count": 38,
   "id": "b1ee3778",
   "metadata": {},
   "outputs": [
    {
     "name": "stdout",
     "output_type": "stream",
     "text": [
      "[[0.19554388 0.52642873 0.78332384 0.18181818 0.8307393  0.84810127]\n",
      " [0.19554388 0.29704089 0.6116491  0.09090909 0.22568093 0.94936709]\n",
      " [0.19554388 0.29704089 0.07668755 0.09090909 0.42412451 0.94936709]\n",
      " ...\n",
      " [0.02888971 0.34097583 0.26616349 0.63636364 0.79182879 0.97468354]\n",
      " [0.10222322 0.80313982 0.11620621 0.63636364 0.99610895 0.75949367]\n",
      " [0.10222322 0.40874181 0.19253774 0.09090909 0.82101167 0.69620253]]\n"
     ]
    }
   ],
   "source": [
    "print(X_data_normal.values)"
   ]
  },
  {
   "cell_type": "code",
   "execution_count": 39,
   "id": "5eb4a061",
   "metadata": {},
   "outputs": [
    {
     "name": "stdout",
     "output_type": "stream",
     "text": [
      "[False False False False False False]\n"
     ]
    }
   ],
   "source": [
    "print(np.isnan(X_data_normal.values).any(axis=0))\n",
    "# [ True  True False]"
   ]
  },
  {
   "cell_type": "code",
   "execution_count": 40,
   "id": "4667f8e0",
   "metadata": {},
   "outputs": [
    {
     "name": "stdout",
     "output_type": "stream",
     "text": [
      "[ True  True  True  True  True  True]\n"
     ]
    }
   ],
   "source": [
    "print(~np.isnan(X_data_normal.values).any(axis=0))\n",
    "# [False False  True]"
   ]
  },
  {
   "cell_type": "code",
   "execution_count": 41,
   "id": "bc3cf6f6",
   "metadata": {},
   "outputs": [
    {
     "name": "stdout",
     "output_type": "stream",
     "text": [
      "[[0.19554388 0.52642873 0.78332384 0.18181818 0.8307393  0.84810127]\n",
      " [0.19554388 0.29704089 0.6116491  0.09090909 0.22568093 0.94936709]\n",
      " [0.19554388 0.29704089 0.07668755 0.09090909 0.42412451 0.94936709]\n",
      " ...\n",
      " [0.02888971 0.34097583 0.26616349 0.63636364 0.79182879 0.97468354]\n",
      " [0.10222322 0.80313982 0.11620621 0.63636364 0.99610895 0.75949367]\n",
      " [0.10222322 0.40874181 0.19253774 0.09090909 0.82101167 0.69620253]]\n"
     ]
    }
   ],
   "source": [
    "print(X_data_normal.values[:, ~np.isnan(X_data_normal.values).any(axis=0)])\n",
    "# [[11. 14.]\n",
    "#  [21. 24.]\n",
    "#  [31. 34.]]"
   ]
  },
  {
   "cell_type": "code",
   "execution_count": 42,
   "id": "72c47f2d",
   "metadata": {},
   "outputs": [],
   "source": [
    "X_train_res, y_train_res = smote.fit_resample(X_data_normal.values[:, ~np.isnan(X_data_normal.values).any(axis=0)], y_label.values)"
   ]
  },
  {
   "cell_type": "code",
   "execution_count": 43,
   "id": "ee91994b",
   "metadata": {},
   "outputs": [],
   "source": [
    "def evaluate_mode(y_test,y_pre,mode,X_test):\n",
    "    from sklearn.metrics import accuracy_score\n",
    "    from sklearn.metrics import precision_score\n",
    "    from sklearn.metrics import recall_score\n",
    "    from sklearn.metrics import f1_score\n",
    "    from sklearn.metrics import auc\n",
    "    acc= round(accuracy_score(y_test, y_pre)* 100, 2)\n",
    "    pre= round(precision_score(y_test, y_pre)*100,2)\n",
    "    rec= round(recall_score(y_test, y_pre)*100,2)\n",
    "    f1=round(f1_score(y_test,y_pre)*100,2)\n",
    "    from sklearn.metrics import roc_curve #导入ROC曲线函数\n",
    "    fpr, tpr, thresholds = roc_curve(y_test, mode.predict_proba(X_test)[:,1], pos_label=1)\n",
    "    roc_auc =round(auc(fpr,tpr),2)\n",
    "    print(\"accourcy=%f\\tpre=%f\\trecall=%f\\tf1=%f\\tauc=%f\\n\"%(acc,pre,rec,f1,roc_auc))\n",
    "    return acc,pre,rec,f1,roc_auc\n",
    "#ROC曲线\n",
    "def draw_ROC(X_test):\n",
    "    from sklearn.metrics import roc_curve #导入ROC曲线函数\n",
    "    fpr, tpr, thresholds = roc_curve(y_test, mode.predict_proba(X_test)[:,1], pos_label=1)\n",
    "    plt.plot(fpr, tpr, linewidth=2, label = 'ROC of Liner', color = 'green') #作出ROC曲线\n",
    "    plt.xlabel('False Positive Rate') #坐标轴标签\n",
    "    plt.ylabel('True Positive Rate') #坐标轴标签\n",
    "    plt.ylim(0,1.05) #边界范围\n",
    "    plt.xlim(0,1.05) #边界范围\n",
    "    plt.legend(loc=4) #图例"
   ]
  },
  {
   "cell_type": "code",
   "execution_count": 44,
   "id": "44c7ee3f",
   "metadata": {},
   "outputs": [],
   "source": [
    "def linear(test):\n",
    "    from sklearn.model_selection import train_test_split#留出法\n",
    "    from sklearn.linear_model import LogisticRegression#线性回归分类器\n",
    "    dt_rest=[]\n",
    "    for times in range(5):\n",
    "        X_train,X_test,y_train,y_test = train_test_split(X_train_res,y_train_res,test_size=0.2, random_state=42+times)\n",
    "        #创建模型\n",
    "        mode=LogisticRegression()\n",
    "        mode.fit(X_train,y_train)\n",
    "        y_pre=mode.predict(X_test)\n",
    "        dt_rest.append(evaluate_mode(y_test,y_pre,mode,X_test))\n",
    "    np.array(dt_rest).mean(axis=0)\n",
    "    cls = mode.predict(test)\n",
    "    prob = mode.predict_proba(test)\n",
    "    return prob"
   ]
  },
  {
   "cell_type": "code",
   "execution_count": 45,
   "id": "855a1eef",
   "metadata": {},
   "outputs": [],
   "source": [
    "def DT(test):\n",
    "    from sklearn.tree import DecisionTreeClassifier\n",
    "    mode=DecisionTreeClassifier(criterion=\"entropy\",max_depth=10)\n",
    "    #mode=DecisionTreeClassifier(criterion=\"gini\",max_depth=10)\n",
    "    dt_rest=[]\n",
    "    for times in range(5):\n",
    "        X_train,X_test,y_train,y_test = train_test_split(X_train_res,y_train_res,test_size=0.2, random_state=42+times)\n",
    "        mode.fit(X_train,y_train)\n",
    "        y_pre=mode.predict(X_test)\n",
    "        dt_rest.append(evaluate_mode(y_test,y_pre,mode,X_test))\n",
    "    np.array(dt_rest).mean(axis=0)\n",
    "    cls = mode.predict(test)\n",
    "    prob = mode.predict_proba(test)\n",
    "    return prob"
   ]
  },
  {
   "cell_type": "code",
   "execution_count": 46,
   "id": "14be6bd2",
   "metadata": {},
   "outputs": [],
   "source": [
    "def RF(test):\n",
    "    from sklearn.ensemble import RandomForestClassifier\n",
    "    dt_rest=[]\n",
    "    for n_estimator in range(10,20,10):\n",
    "        rf_rest=[]\n",
    "        mode = RandomForestClassifier(n_estimators=n_estimator,criterion=\"entropy\",max_depth=10,max_features=3)\n",
    "        for times in range(5):\n",
    "            X_train,X_test,y_train,y_test = train_test_split(X_train_res,y_train_res,test_size=0.2, random_state=42+times)\n",
    "        mode.fit(X_train,y_train)\n",
    "        y_pre=mode.predict(X_test)\n",
    "        dt_rest.append(evaluate_mode(y_test,y_pre,mode,X_test))\n",
    "        \n",
    "    np.array(dt_rest).mean(axis=0)\n",
    "    cls = mode.predict(test)\n",
    "    prob = mode.predict_proba(test)\n",
    "    return prob"
   ]
  },
  {
   "cell_type": "code",
   "execution_count": 47,
   "id": "9b3962b8",
   "metadata": {},
   "outputs": [
    {
     "name": "stdout",
     "output_type": "stream",
     "text": [
      "[[0.56098788 0.05016949 0.71072497 0.75757576 0.18181818 0.36666667]\n",
      " [0.94407603 0.14621469 0.24398234 0.75757576 0.         0.16666667]\n",
      " [0.29430437 0.80305085 0.49316337 0.86363636 0.54545455 0.86666667]\n",
      " ...\n",
      " [0.90025412 0.82655367 0.54030765 0.86363636 0.         0.36666667]\n",
      " [0.61771149 0.08519774 0.96845179 0.75757576 0.09090909 0.53333333]\n",
      " [0.90693164 0.84531073 0.04344111 0.93939394 0.54545455 0.9       ]]\n",
      "[ True  True  True  True  True  True]\n"
     ]
    }
   ],
   "source": [
    "test = pd.read_csv('datasets/offline_test.csv/offline_test.csv')\n",
    "from pre_data import convertDistance, convertRate\n",
    "test['Discount_rate'] = test['Discount_rate'].apply(convertRate)\n",
    "test['Distance'] = test['Distance'].apply(convertDistance)\n",
    "# print(test)\n",
    "test_normal = pd.DataFrame(min_max_scaler.fit_transform(test),columns=test.columns)\n",
    "print(test_normal.values)\n",
    "print(~np.isnan(test_normal.values).any(axis=0))"
   ]
  },
  {
   "cell_type": "code",
   "execution_count": 48,
   "id": "4f6518ec",
   "metadata": {},
   "outputs": [
    {
     "name": "stdout",
     "output_type": "stream",
     "text": [
      "accourcy=77.200000\tpre=73.320000\trecall=85.660000\tf1=79.010000\tauc=0.850000\n",
      "\n",
      "accourcy=77.080000\tpre=73.240000\trecall=85.260000\tf1=78.790000\tauc=0.850000\n",
      "\n",
      "accourcy=77.170000\tpre=73.750000\trecall=84.440000\tf1=78.730000\tauc=0.850000\n",
      "\n",
      "accourcy=77.250000\tpre=73.400000\trecall=85.640000\tf1=79.050000\tauc=0.850000\n",
      "\n",
      "accourcy=77.110000\tpre=72.990000\trecall=85.820000\tf1=78.890000\tauc=0.850000\n",
      "\n"
     ]
    }
   ],
   "source": [
    "from sklearn.tree import DecisionTreeClassifier\n",
    "mode=DecisionTreeClassifier(criterion=\"entropy\",max_depth=10)\n",
    "    #mode=DecisionTreeClassifier(criterion=\"gini\",max_depth=10)\n",
    "dt_rest=[]\n",
    "pre_res_prob = []\n",
    "pre_res = []\n",
    "for times in range(5):\n",
    "    X_train,X_test,y_train,y_test = train_test_split(X_train_res,y_train_res,test_size=0.2, random_state=42+times)\n",
    "    mode.fit(X_train,y_train)\n",
    "    # print(X_train)\n",
    "    y_pre=mode.predict(X_test)\n",
    "    # print(X_test)\n",
    "    dt_rest.append(evaluate_mode(y_test,y_pre,mode,X_test))\n",
    "    test_predict_prob = mode.predict_proba(test_normal.values)\n",
    "    test_predict = mode.predict(test_normal.values)\n",
    "    pre_res_prob.append(test_predict_prob)\n",
    "    pre_res.append(test_predict)\n",
    "# mode.predict()\n",
    "# mode.predict_proba()\n"
   ]
  },
  {
   "cell_type": "code",
   "execution_count": 49,
   "id": "b6e2511b",
   "metadata": {},
   "outputs": [
    {
     "name": "stdout",
     "output_type": "stream",
     "text": [
      "113640 113640\n",
      "[array([[0.27419355, 0.72580645],\n",
      "       [0.66536661, 0.33463339],\n",
      "       [0.44383219, 0.55616781],\n",
      "       ...,\n",
      "       [0.83333333, 0.16666667],\n",
      "       [0.27419355, 0.72580645],\n",
      "       [0.18329596, 0.81670404]]), array([[0.51818182, 0.48181818],\n",
      "       [0.66769231, 0.33230769],\n",
      "       [0.43866499, 0.56133501],\n",
      "       ...,\n",
      "       [0.66666667, 0.33333333],\n",
      "       [0.15966387, 0.84033613],\n",
      "       [0.17765363, 0.82234637]]), array([[0.68421053, 0.31578947],\n",
      "       [0.7483871 , 0.2516129 ],\n",
      "       [0.43985389, 0.56014611],\n",
      "       ...,\n",
      "       [1.        , 0.        ],\n",
      "       [0.21495327, 0.78504673],\n",
      "       [0.18062397, 0.81937603]]), array([[0.23404255, 0.76595745],\n",
      "       [0.66564652, 0.33435348],\n",
      "       [0.44280675, 0.55719325],\n",
      "       ...,\n",
      "       [0.83333333, 0.16666667],\n",
      "       [0.23404255, 0.76595745],\n",
      "       [0.18063818, 0.81936182]]), array([[0.29381443, 0.70618557],\n",
      "       [0.66036249, 0.33963751],\n",
      "       [0.44225423, 0.55774577],\n",
      "       ...,\n",
      "       [0.83333333, 0.16666667],\n",
      "       [0.29381443, 0.70618557],\n",
      "       [0.18283791, 0.81716209]])]\n",
      "[array([1, 0, 1, ..., 0, 1, 1], dtype=int64), array([0, 0, 1, ..., 0, 1, 1], dtype=int64), array([0, 0, 1, ..., 0, 1, 1], dtype=int64), array([1, 0, 1, ..., 0, 1, 1], dtype=int64), array([1, 0, 1, ..., 0, 1, 1], dtype=int64)]\n"
     ]
    }
   ],
   "source": [
    "print(len(pre_res[0]),len(pre_res[1]))\n",
    "print(pre_res_prob)\n",
    "print(pre_res)"
   ]
  },
  {
   "cell_type": "code",
   "execution_count": 50,
   "id": "9584fbef",
   "metadata": {},
   "outputs": [
    {
     "name": "stdout",
     "output_type": "stream",
     "text": [
      "accourcy=78.850000\tpre=74.310000\trecall=87.970000\tf1=80.570000\tauc=0.880000\n",
      "\n"
     ]
    },
    {
     "name": "stderr",
     "output_type": "stream",
     "text": [
      "e:\\Anaconda3\\envs\\d2l-zh\\lib\\site-packages\\sklearn\\base.py:413: UserWarning: X has feature names, but RandomForestClassifier was fitted without feature names\n",
      "  warnings.warn(\n"
     ]
    }
   ],
   "source": [
    "from sklearn.ensemble import RandomForestClassifier\n",
    "dt_rest=[]\n",
    "for n_estimator in range(10,20,10):\n",
    "    rf_rest=[]\n",
    "    mode = RandomForestClassifier(n_estimators=n_estimator,criterion=\"entropy\",max_depth=10,max_features=3)\n",
    "    for times in range(5):\n",
    "        X_train,X_test,y_train,y_test = train_test_split(X_train_res,y_train_res,test_size=0.2, random_state=42+times)\n",
    "    mode.fit(X_train,y_train)\n",
    "    y_pre=mode.predict(X_test)\n",
    "    dt_rest.append(evaluate_mode(y_test,y_pre,mode,X_test))\n",
    "    test_predict_prob = mode.predict_proba(test)"
   ]
  },
  {
   "cell_type": "code",
   "execution_count": 72,
   "id": "a00d32d7",
   "metadata": {},
   "outputs": [
    {
     "name": "stdout",
     "output_type": "stream",
     "text": [
      "call the app with the option selected! RF\n",
      "     User_id  Merchant_id  Coupon_id  Distance  Date_received  Discount_rate\n",
      "0  4129537.0        450.0     9983.0         1           0.83     20160712.0\n",
      "Yes button clicked! RF\n",
      "accourcy=79.130000\tpre=74.620000\trecall=88.070000\tf1=80.790000\tauc=0.880000\n",
      "\n",
      "[[0.48908316 0.51091684]]\n",
      "0.510916838967706\n"
     ]
    }
   ],
   "source": [
    "\n",
    "import tkinter as tk\n",
    "from tkinter import ttk\n",
    "from pre_data import convertDistance, convertRate\n",
    "\n",
    "\n",
    "class APP:\n",
    "    def __init__(self,selected_option=None):\n",
    "        self.selected_option = selected_option\n",
    "        #if self.selected_opti == Option 1 \n",
    "           # linear()\n",
    "        #print(self.selected_option)\n",
    "\n",
    "    def on_button_click(self, info):\n",
    "        print(\"Yes button clicked!\",self.selected_option)\n",
    "        # infomation = [\n",
    "        #                 float(user_id), float(merchant_id), float(coupon_id), \n",
    "        #                 convertRate(discount_rate), convertDistance(distance), float(date)\n",
    "        #               ]\n",
    "        # info = pd.DataFrame(infomation)\n",
    "        if self.selected_option == \"linear\":\n",
    "            prob3 = linear(info)\n",
    "        if self.selected_option == \"DT\":\n",
    "            prob3 = DT(info)\n",
    "        if self.selected_option == \"RF\":\n",
    "            prob3 = RF(info)\n",
    "        return prob3\n",
    "\n",
    "class GUI:\n",
    "    def __init__(self):\n",
    "        self.root = tk.Tk()\n",
    "        self.root.title(\"User Info\")\n",
    "        self.root.geometry(\"600x450\")\n",
    "        self.create_widgets()\n",
    "\n",
    "    def on_yes_button_click(self, user_id, merchant_id, coupon_id, distance, discount_rate, date):\n",
    "        selected_option = self.parameter.get()\n",
    "        print(\"call the app with the option selected!\", selected_option)\n",
    "        # print(info)\n",
    "        if distance == 'null':\n",
    "            infomation = {\n",
    "                            'User_id' : float(user_id),\n",
    "                            'Merchant_id' : float(merchant_id), \n",
    "                            'Coupon_id' : float(coupon_id),  \n",
    "                            'Distance' : None,\n",
    "                            'Date_received' : convertRate(discount_rate), \n",
    "                            'Discount_rate' : float(date),  \n",
    "                         }          \n",
    "        else:\n",
    "            infomation = {\n",
    "                            'User_id' : float(user_id),\n",
    "                            'Merchant_id' : float(merchant_id), \n",
    "                            'Coupon_id' : float(coupon_id),  \n",
    "                            'Distance' : convertDistance(distance),\n",
    "                            'Date_received' : convertRate(discount_rate), \n",
    "                            'Discount_rate' : float(date),  \n",
    "                         }       \n",
    "        info = pd.DataFrame(infomation, index=[0])\n",
    "        # info['User_id'] = float(user_id)\n",
    "        # info['Merchant_id'] = float(merchant_id)\n",
    "        # info['Coupon_id'] = float(coupon_id)\n",
    "        # info['Discount_rate'] = convertRate(discount_rate)\n",
    "        # if distance == 'null':\n",
    "        #     info['Distance'] = np.nan\n",
    "        # else:\n",
    "        #     info['Distance'] = convertDistance(distance)\n",
    "        # info['Date_received'] = float(date)\n",
    "        print(info)\n",
    "        # info_normal = pd.DataFrame(min_max_scaler.fit_transform(info),columns=info.columns)\n",
    "        # print(info_normal)\n",
    "\n",
    "        app = APP(selected_option)\n",
    "        res = app.on_button_click(info.values)\n",
    "        self.show_res(res)\n",
    "\n",
    "    def show_res(self, res):\n",
    "        # self.parameter = tk.StringVar()\n",
    "        var_res_prob = tk.StringVar()\n",
    "        \n",
    "        print(res)\n",
    "        print(res[0][1])\n",
    "        date_label = ttk.Label(self.root, text=\"Prob:\")\n",
    "        date_label.place(x=50,y=210)\n",
    "        var_res_prob.set(str(res[0][1]))\n",
    "\n",
    "        res_label = tk.Label(self.root, textvariable=var_res_prob)\n",
    "        res_label.pack()\n",
    "        # var_res_prob.set(str(res[0][1]))\n",
    "        res_label.place(x=130, y=210)\n",
    "\n",
    "    def close_window(self):\n",
    "        self.root.destroy()\n",
    "\n",
    "    def create_widgets(self):\n",
    "        self.parameter = tk.StringVar()\n",
    "\n",
    "        # User ID Label\n",
    "        var_user_id = tk.StringVar()\n",
    "        user_id_label = ttk.Label(self.root, text=\"User ID:\")\n",
    "        user_id_label.place(x=50,y=50)\n",
    "\n",
    "        entry_user_id = ttk.Entry(self.root, textvariable=var_user_id)\n",
    "        entry_user_id.place(x=130, y=50)\n",
    "        \n",
    "\n",
    "        var_merchant_id = tk.StringVar()\n",
    "        merchant_id_label = ttk.Label(self.root, text=\"Merchant ID:\")\n",
    "        merchant_id_label.place(x=300,y=50)\n",
    "\n",
    "        entry_merchant_id = ttk.Entry(self.root, textvariable=var_merchant_id)\n",
    "        entry_merchant_id.place(x=380, y=50)\n",
    "\n",
    "        var_discount_rate = tk.StringVar()\n",
    "        discount_rate = ttk.Label(self.root, text=\"Discount rate:\")\n",
    "        discount_rate.place(x=300,y=80)\n",
    "\n",
    "        entry_discount_rate = ttk.Entry(self.root, textvariable=var_discount_rate)\n",
    "        entry_discount_rate.place(x=390, y=80)\n",
    "\n",
    "        var_distance = tk.StringVar()\n",
    "        distance = ttk.Label(self.root, text=\"Distance:\")\n",
    "        distance.place(x=300,y=110)\n",
    "\n",
    "        entry_distance = ttk.Entry(self.root, textvariable=var_distance)\n",
    "        entry_distance.place(x=380, y=110)\n",
    "\n",
    "        var_coupon_id = tk.StringVar()\n",
    "        coupon_id_label = ttk.Label(self.root, text=\"Coupon ID:\")\n",
    "        coupon_id_label.place(x=50,y=80)\n",
    "\n",
    "        entry_coupon_id = ttk.Entry(self.root, textvariable=var_coupon_id)\n",
    "        entry_coupon_id.place(x=130, y=80)\n",
    "\n",
    "        var_date = tk.StringVar()\n",
    "        date_label = ttk.Label(self.root, text=\"Date received:\")\n",
    "        date_label.place(x=50,y=110)\n",
    "\n",
    "        entry_date = ttk.Entry(self.root, textvariable=var_date)\n",
    "        entry_date.place(x=130, y=110)\n",
    "\n",
    "        # Combobox with some options\n",
    "        combobox_label = ttk.Label(self.root, text=\"Combobox:\")\n",
    "        combobox_label.place(x=50,y=140)\n",
    "\n",
    "        options = [\"linear\", \"DT\", \"RF\"]\n",
    "        combo_box = ttk.Combobox(self.root, values=options, textvariable=self.parameter)\n",
    "        combo_box.place(x=130, y=140)\n",
    "\n",
    "        # Yes and No buttons to submit all input information\n",
    "        # var = entry_user_id.get() == '' or entry_merchant_id.get() == '' or entry_coupon_id.get() == '' or entry_distance.get() == '' or entry_discount_rate.get() == '' or entry_date.get() == ''\n",
    "        # while var:\n",
    "        #     pass\n",
    "        # infomation = [\n",
    "        #                 float(entry_user_id.get()), float(entry_merchant_id.get()), float(entry_coupon_id.get()), \n",
    "        #                 convertRate(entry_discount_rate.get()), convertDistance(entry_distance.get()), float(entry_date.get())\n",
    "        #               ]\n",
    "        # info = pd.DataFrame(infomation)\n",
    "        yes_button = ttk.Button(self.root, text=\"Submit\", command=lambda:self.on_yes_button_click(entry_user_id.get(), entry_merchant_id.get(),\n",
    "                                                                                                  entry_coupon_id.get(), entry_distance.get(),\n",
    "                                                                                                  entry_discount_rate.get(), entry_date.get()))\n",
    "        yes_button.place(x=50, y=180)\n",
    "\n",
    "\n",
    "        no_button = ttk.Button(self.root, text=\"Cancel\", command=self.close_window)\n",
    "        no_button.place(x=150,y=180)\n",
    "\n",
    "\n",
    "if __name__ == \"__main__\":\n",
    "    gui = GUI()\n",
    "    gui.root.mainloop()"
   ]
  },
  {
   "cell_type": "code",
   "execution_count": null,
   "id": "4c7e7f53",
   "metadata": {},
   "outputs": [],
   "source": []
  }
 ],
 "metadata": {
  "kernelspec": {
   "display_name": "Python 3 (ipykernel)",
   "language": "python",
   "name": "python3"
  },
  "language_info": {
   "codemirror_mode": {
    "name": "ipython",
    "version": 3
   },
   "file_extension": ".py",
   "mimetype": "text/x-python",
   "name": "python",
   "nbconvert_exporter": "python",
   "pygments_lexer": "ipython3",
   "version": "3.8.0"
  }
 },
 "nbformat": 4,
 "nbformat_minor": 5
}
