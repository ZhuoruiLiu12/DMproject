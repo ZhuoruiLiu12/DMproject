{
 "cells": [
  {
   "attachments": {},
   "cell_type": "markdown",
   "id": "b3fefc0e",
   "metadata": {},
   "source": [
    "# “基于数据挖掘技术的优惠券核销率预测系统”项目报告\n",
    "### 小组成员：刘卓睿、王聆煊、刘贤文、唐力\n",
    "### 撰写人：刘卓睿"
   ]
  },
  {
   "attachments": {},
   "cell_type": "markdown",
   "id": "89857726",
   "metadata": {},
   "source": [
    "### 组员分工：\n",
    "   #### 刘卓睿：报告撰写、代码完善与整合、GUI设计、模型部署与前后端交互\n",
    "   #### 王聆煊：数据分析、数据可视化\n",
    "   #### 刘贤文：模型调研、模型训练\n",
    "   #### 唐力：GUI设计、前后端交互\n",
    "### 项目代码仓库地址：https://github.com/ZhuoruiLiu12/DMproject.git"
   ]
  },
  {
   "attachments": {},
   "cell_type": "markdown",
   "id": "d2074e20",
   "metadata": {},
   "source": [
    "## 一、问题描述\n",
    "### 1、问题背景及分析\n",
    "随着移动设备的完善和普及以及互联网技术的发展，移动互联网+各行各业进入了高速发展阶段，这其中以O2O（Online to Offline）消费最为吸引眼球。以优惠券刺激消费者消费是O2O的一种重要营销方式，然而，随机投放的限定于某种类型的优惠券对于大多数用户来说，只会造成无意义的干扰；同样对于商家而言，滥发的优惠券可能降低品牌声誉，同时难以估算其营销成本。在此背景下，个性化投放是提高优惠券核销率的重要手段，它可以让具有一定偏好的消费者得到真正的实惠，同时赋予商家更强的营销能力，本项目使用O2O场景相关的数据，通过分析建模来预测用户是否会在规定时间内使用相应优惠券，从而帮助用户和商家解决上述问题，最终达到双赢的效果。\n",
    "### 2、问题描述\n",
    "#### 2.1 数据准备\n",
    "该项目的数据集采用天池平台的数据集“生活大实惠：O2O优惠券使用预测”，根据用户一个月的线上线下真实消费记录，来预测用户在下一个月领取优惠券后15天内的使用情况。同时为了保护隐私，所有数据均作匿名处理，同时采用了有偏采样和必要过滤。\n",
    "> datasets：https://tianchi.aliyun.com/dataset/137322\n",
    "#### 2.2 准备采用的方法或者模型\n",
    "本项目基于数据挖掘技术，机器学习与深度学习，数据可视化等技术，对数据进行预处理跟清洗，将处理后的数据使用特征工程进行建模，同时使用数据可视化技术将数据分析和关联挖掘的结果展现出来，使用机器学习或深度学习模型学习数据的特征，进行训练和预测。\n",
    "在项目进行过程中，对不同的模型进行实验，得出对应的结果。分析之后，最终选择的模型为线性模型、随机森林模型、决策树模型，其中根据评估结果，随机森林模型效果最好。\n",
    "#### 2.3 预期的挖掘结果\n",
    "- 挖据并学习出数据对应的关联模式，并且对于测试集中的用户，能预测出其优惠券使用的概率\n",
    "- 根据预测的概率结果，可以对个性化优惠券发放进行优化，从而实现更好的个性化推荐效果"
   ]
  },
  {
   "attachments": {},
   "cell_type": "markdown",
   "id": "ce2aef4e",
   "metadata": {},
   "source": [
    "## 二、数据处理与分析\n",
    "### 1、导入数据"
   ]
  },
  {
   "cell_type": "code",
   "execution_count": 1,
   "id": "6f511c72",
   "metadata": {},
   "outputs": [],
   "source": [
    "import numpy as np\n",
    "import pandas as pd\n",
    "import matplotlib.pyplot as plt\n",
    "import seaborn as sns"
   ]
  },
  {
   "cell_type": "code",
   "execution_count": 3,
   "id": "dd8b90bf",
   "metadata": {},
   "outputs": [],
   "source": [
    "offline_train_data = pd.read_csv('datasets/offline_train.csv/offline_train.csv')"
   ]
  },
  {
   "attachments": {},
   "cell_type": "markdown",
   "id": "8057048c",
   "metadata": {},
   "source": [
    "### 2、预处理数据\n",
    "1. 首先是分析数据，发现对O2O消费券线下消费的预测，使用线上消费的数据并不能有一个很好的效果，所以我们选择使用户线下消费和优惠券领取行为表的一百七十多万条数据来进行项目的分析和预测。\n",
    "2. 对于要使用的数据打上label，由于原始数据的属性如上表所示，并没有显示的给出数据的标签，所以我们根据项目的具体要求，结合数据说明中的属性，给符合要求的数据打上了0,1,-1的标签，方便后续的训练与预测。\n",
    "> 给数据新增一条属性列，即label    \n",
    "> 具体来说，对于数据的消费日期属性，如果Date=null & Coupon_id != null，该记录表示领取优惠券但没有使用，即负样本，给数据的label属性标记为0   \n",
    "> 如果Date!=null & Coupon_id = null，则表示普通消费日期,给该数据的label属性标记为-1   \n",
    "> 如果Date!=null & Coupon_id != null，则表示用优惠券消费日期，即正样本，给该数据的label属性标记为1\n",
    "3. 由于没有领券的用户消费行为不作为本次项目的分析样本，所以将label为-1的数据从数据中删除。"
   ]
  },
  {
   "attachments": {},
   "cell_type": "markdown",
   "id": "0db9dc06",
   "metadata": {},
   "source": [
    "定义预处理函数"
   ]
  },
  {
   "cell_type": "code",
   "execution_count": 4,
   "id": "949e5b83",
   "metadata": {},
   "outputs": [],
   "source": [
    "def pre_process_data(df):\n",
    "    \"\"\"\n",
    "    todo: 预处理数据,包括构建label、去除无用数据\n",
    "    @return:\n",
    "    \"\"\"\n",
    "    # *添加label\n",
    "    df['label'] = df.apply(create_label4offline_train, axis=1)\n",
    "    print(df['label'].value_counts())\n",
    "    # *去除没有接收领优惠卷的用户,因为不是我们这次分析的样本，需要从样本空间删除\n",
    "    df = df[df['label'] != -1]\n",
    "    print(df['label'].value_counts())\n",
    "    # *保存数据\n",
    "    df.to_csv('processed_offline_train.csv', index=False)"
   ]
  },
  {
   "cell_type": "code",
   "execution_count": 6,
   "id": "06c8c522",
   "metadata": {},
   "outputs": [],
   "source": [
    "def create_label4offline_train(row):\n",
    "    \"\"\"\n",
    "    todo:为offline_train创建label 1-表示在15天内使用了优惠券，0-表示没有使用，-1-表明没有领优惠劵\n",
    "    @param row:\n",
    "    @return:\n",
    "    \"\"\"\n",
    "    # if pd.isnull(row['Date']) and (not pd.isnull(row['Coupon_id'])):\n",
    "    if pd.isnull(row['Date']):\n",
    "        if not pd.isnull(row['Coupon_id']):\n",
    "            # 如果Date=null & Coupon_id != null，该记录表示领取优惠券但没有使用，即负样本\n",
    "            return 0\n",
    "    else:\n",
    "        # Date != null\n",
    "        if pd.isnull(row['Coupon_id']):\n",
    "            # Coupon_id = null，则表示普通消费日期\n",
    "            return -1\n",
    "        else:\n",
    "            # 如果Date!=null & Coupon_id != null，则表示用优惠券消费日期，即正样本\n",
    "            return 1"
   ]
  },
  {
   "cell_type": "code",
   "execution_count": 7,
   "id": "525c9855",
   "metadata": {},
   "outputs": [
    {
     "name": "stdout",
     "output_type": "stream",
     "text": [
      "label\n",
      " 0    977900\n",
      "-1    701602\n",
      " 1     75382\n",
      "Name: count, dtype: int64\n",
      "label\n",
      "0    977900\n",
      "1     75382\n",
      "Name: count, dtype: int64\n"
     ]
    }
   ],
   "source": [
    "pre_process_data(offline_train_data)"
   ]
  },
  {
   "attachments": {},
   "cell_type": "markdown",
   "id": "7cea42fc",
   "metadata": {},
   "source": [
    "读取处理后的数据"
   ]
  },
  {
   "cell_type": "code",
   "execution_count": 8,
   "id": "7007a0e1",
   "metadata": {},
   "outputs": [],
   "source": [
    "df_pro = pd.read_csv('datasets/offline_train.csv/processed_offline_train.csv')"
   ]
  },
  {
   "attachments": {},
   "cell_type": "markdown",
   "id": "fe16bb2c",
   "metadata": {},
   "source": [
    "### 3、分析数据\n",
    "1. 对数据的缺失值和重复值分析  \n",
    "\n",
    "|不重复数据|重复数据|\n",
    "|------|------|\n",
    "|1015389|37893|   \n",
    "\n",
    "----\n",
    "\n",
    "| 属性 | 空值统计 |\n",
    "| ------|-------|\n",
    "| User_id|0|\n",
    "| Merchant_id|0|\n",
    "|Coupon_id|0|\n",
    "|Discount_rate|0|\n",
    "|Distence|106003|\n",
    "|Date_received|0|\n",
    "|Date|977900|\n",
    "|label|0|\n",
    "\n",
    "表中Distence属性有106003条null值，表示没有记录商家距离  \n",
    "Date属性为null表示未使用消费券    \n",
    "数据分析结果表示，共有37893条重复数据，不重复的数据有1015389条；无缺失数据；无异常值   \n",
    "2. 数据分布分析"
   ]
  },
  {
   "attachments": {},
   "cell_type": "markdown",
   "id": "2c265172",
   "metadata": {},
   "source": [
    "定义相关函数\n"
   ]
  },
  {
   "cell_type": "code",
   "execution_count": 9,
   "id": "0994d0af",
   "metadata": {},
   "outputs": [],
   "source": [
    "def user_count(data):\n",
    "    \"\"\"\n",
    "    @todo 区分高活跃度用户-3，中度活跃用户-2以及低活跃度用户-1，以及流失用户-0\n",
    "    @param data:\n",
    "    @return:\n",
    "    \"\"\"\n",
    "    if data > 10:\n",
    "        return 3\n",
    "    elif data > 5:\n",
    "        return 2\n",
    "    elif data > 1:\n",
    "        return 1\n",
    "    else:\n",
    "        return 0"
   ]
  },
  {
   "cell_type": "code",
   "execution_count": 10,
   "id": "0a1582c5",
   "metadata": {},
   "outputs": [],
   "source": [
    "def user_id(df):\n",
    "    \"\"\"\n",
    "    todo: 分析user id属性\n",
    "    @return:\n",
    "    \"\"\"\n",
    "    print(\"total number is %d\" % len(df.User_id))\n",
    "    print(\"unique user id is %d\" % len(set(df.User_id)))\n",
    "    df['sum'] = 1  # 给每一条记录付给一个初始值1,记录出现的次数\n",
    "    user_id_count = df.groupby(['User_id'], as_index=False)['sum'].agg({'count': np.sum})  # 统计各个用户出现的次数\n",
    "    user_id_count.sort_values('count', ascending=False, inplace=True)\n",
    "    print(user_id_count.head(20))\n",
    "    # 可视化\n",
    "    user_id_count['user_range'] = user_id_count['count'].map(user_count)\n",
    "    f, ax = plt.subplots(1, 2, figsize=(17.5, 8))\n",
    "    user_id_count['user_range'].value_counts().plot(kind=\"pie\", autopct='%1.1f%%', ax=ax[0], explode=[0.01, 0, 0, 0],\n",
    "                                                    startangle=90)\n",
    "    ax[0].set_title('user_range_ratio')\n",
    "    ax[0].set_ylabel('')\n",
    "    # user_id_count['user_range'].value_counts().plot(kind='bar',ax=ax[1])\n",
    "    sns.countplot(x='user_range', data=user_id_count, ax=ax[1])\n",
    "    ax[1].set_title('user range distribution')\n",
    "    plt.savefig(\"用户活跃度.png\")\n",
    "    plt.show()"
   ]
  },
  {
   "cell_type": "code",
   "execution_count": 11,
   "id": "fff7d94f",
   "metadata": {},
   "outputs": [],
   "source": [
    "def mer_count(data):\n",
    "    if data > 1000:\n",
    "        return 3\n",
    "    elif data > 100:\n",
    "        return 2\n",
    "    elif data > 20:\n",
    "        return 1\n",
    "    else:\n",
    "        return 0"
   ]
  },
  {
   "cell_type": "code",
   "execution_count": 12,
   "id": "682156df",
   "metadata": {},
   "outputs": [],
   "source": [
    "def merchant_id(df):\n",
    "    \"\"\"\n",
    "    todo: 分析merchant id属性\n",
    "    @param df:\n",
    "    @return:\n",
    "    \"\"\"\n",
    "    print(\"total number is %d\" % len(df.Merchant_id))\n",
    "    print(\"unique user id is %d\" % len(set(df.Merchant_id)))\n",
    "    print(\"total number is %d\" % len(df.Merchant_id))\n",
    "    print(\"unique user id is %d\" % len(set(df.Merchant_id)))\n",
    "    df['sum_Merchant_id'] = 1  # 给每一条记录付给一个初始值1,记录出现的次数\n",
    "    merchant_count = df.groupby(['Merchant_id'], as_index=False)['sum_Merchant_id'].agg(\n",
    "        {'count': np.sum})  # 统计各个用户出现的次数\n",
    "    merchant_count.sort_values('count', ascending=False, inplace=True)\n",
    "    print(len(merchant_count))\n",
    "    print(merchant_count.head(20))\n",
    "    # visualization\n",
    "    merchant_count['mer_range'] = merchant_count['count'].map(mer_count)  # 对商家也进行编码，3代表发放了很多的优惠券，2,1,0一次抵减\n",
    "    f, ax = plt.subplots(1, 2, figsize=(17.5, 8))\n",
    "    merchant_count['mer_range'].value_counts().plot(kind=\"pie\", autopct='%1.1f%%', ax=ax[0], explode=[0.01, 0, 0, 0],\n",
    "                                                    startangle=90)\n",
    "    ax[0].set_title('mer_range')\n",
    "    ax[0].set_ylabel('')\n",
    "\n",
    "    sns.countplot(x='mer_range', data=merchant_count, ax=ax[1])\n",
    "    ax[1].set_title('merchant range distribution')\n",
    "    plt.savefig(\"商家分布.png\")\n",
    "    plt.show()"
   ]
  },
  {
   "cell_type": "code",
   "execution_count": 13,
   "id": "75873987",
   "metadata": {},
   "outputs": [],
   "source": [
    "def cou_count(data):\n",
    "    if data > 1000:\n",
    "        return 3\n",
    "    elif data > 100:\n",
    "        return 2\n",
    "    elif data > 10:\n",
    "        return 1\n",
    "    else:\n",
    "        return 0"
   ]
  },
  {
   "cell_type": "code",
   "execution_count": 14,
   "id": "20493c20",
   "metadata": {},
   "outputs": [],
   "source": [
    "def coupon_id(df):\n",
    "    \"\"\"\n",
    "    @todo 分析coupon id属性\n",
    "    @param df:\n",
    "    @return:\n",
    "    \"\"\"\n",
    "    # 观察有发放优惠券的商家行为\n",
    "    cou_id_count = df.groupby(['Coupon_id'], as_index=False)['sum'].agg({'count': np.sum})\n",
    "    cou_id_count.sort_values([\"count\"], ascending=False).head(10)\n",
    "    # visualization\n",
    "    cou_id_count['Cou_range'] = cou_id_count['count'].map(cou_count)\n",
    "    # 绘图\n",
    "    f, ax = plt.subplots(1, 2, figsize=(17.5, 8))\n",
    "    cou_id_count['Cou_range'].value_counts().plot(kind=\"pie\", autopct='%1.1f%%', ax=ax[0], explode=[0.01, 0, 0, 0],\n",
    "                                                  startangle=90)\n",
    "    ax[0].set_title('Cou_range')\n",
    "    ax[0].set_ylabel('')\n",
    "\n",
    "    sns.countplot(x='Cou_range', data=cou_id_count, ax=ax[1])\n",
    "    ax[1].set_title('Cou_range distribution')\n",
    "    plt.savefig(\"优惠券分布.png\")\n",
    "    plt.show()"
   ]
  },
  {
   "attachments": {},
   "cell_type": "markdown",
   "id": "356381b9",
   "metadata": {},
   "source": [
    "由于数据中的距离跟折扣率存在字符表示或有特殊意义，但算法仅能处理数值类型，因此要定义两个转换函数，将特殊表示和字符表示转化为算法能识别的数值表示。"
   ]
  },
  {
   "cell_type": "code",
   "execution_count": 15,
   "id": "13ce88f4",
   "metadata": {},
   "outputs": [],
   "source": [
    "def convertRate(row):\n",
    "    \"\"\"Convert discount to rate\"\"\"\n",
    "    if pd.isnull(row):\n",
    "        return 1.0\n",
    "    elif ':' in row:\n",
    "        rows = row.split(':')\n",
    "        return np.round(1.0 - float(rows[1]) / float(rows[0]), 2)\n",
    "    else:\n",
    "        return float(row)"
   ]
  },
  {
   "cell_type": "code",
   "execution_count": 16,
   "id": "9202c4c3",
   "metadata": {},
   "outputs": [],
   "source": [
    "def convertDistance(row):\n",
    "    \"\"\"Convert Distance to rate\"\"\"\n",
    "    if pd.isnull(row):\n",
    "        row = -1\n",
    "    return int(row)"
   ]
  },
  {
   "cell_type": "code",
   "execution_count": 17,
   "id": "7ecba0aa",
   "metadata": {},
   "outputs": [],
   "source": [
    "def date(df):\n",
    "    \"\"\"\n",
    "    @todo 分析Date_received和Date属性\n",
    "    @param df:\n",
    "    @return:\n",
    "    \"\"\"\n",
    "    # couponbydate = df[['Date_received', 'Date']].groupby(['Date_received'],as_index=False).count()\n",
    "    couponbydate = df[df['Date_received'] != 'null'][['Date_received', 'Date']].groupby(\n",
    "        ['Date_received'],\n",
    "        as_index=False).count()\n",
    "    couponbydate.columns = ['Date_received', 'count']\n",
    "    # df_temp = df[~df['Date'].isna()]\n",
    "    # buybydate = df_temp[['Date_received', 'Date']].groupby(['Date_received'], as_index=False).count()\n",
    "    buybydate = \\\n",
    "        df[(df['Date'] != 'null') & (df['Date_received'] != 'null')][\n",
    "            ['Date_received', 'Date']].groupby(\n",
    "            ['Date_received'], as_index=False).count()\n",
    "    buybydate.columns = ['Date_received', 'count']\n",
    "    date_buy = df['Date'].unique()  # 购物的日期\n",
    "    date_buy = sorted(date_buy[~np.isnan(date_buy)])  # 按照购物的日期进行排，排出null值\n",
    "\n",
    "    date_received = df['Date_received'].unique()  # 接收到优惠券的时间\n",
    "    date_received = sorted(date_received[~np.isnan(date_received)])  # 按照接收优惠券的时间排序\n",
    "\n",
    "    sns.set_style('ticks')\n",
    "    sns.set_context(\"notebook\", font_scale=1.4)\n",
    "    plt.figure(figsize=(12, 8))\n",
    "    date_received = [int(x) for x in date_received]\n",
    "    date_received_dt = pd.to_datetime(date_received, format='%Y%m%d')  # 转换为datetime格式\n",
    "    plt.subplot(211)\n",
    "    plt.bar(date_received_dt, couponbydate['count'], label='number of coupon received',\n",
    "            color='#a675a1')  # 绘制接收优惠券的日期对应的bar图\n",
    "    plt.bar(date_received_dt, buybydate['count'], label='number of coupon used', color='#75a1a6')  # 绘制使用优惠券对应的bar图\n",
    "    plt.yscale('log')\n",
    "    plt.ylabel('Count')\n",
    "    plt.legend()\n",
    "    plt.savefig(\"优惠券使用图.png\")\n",
    "    plt.show()\n",
    "\n",
    "    plt.subplot(212)\n",
    "    plt.bar(date_received_dt, buybydate['count'] / couponbydate['count'], color='#62a5de')  # 绘制优惠券使用的比例图\n",
    "    plt.ylabel('Ratio(coupon used/coupon received)')\n",
    "    plt.tight_layout()\n",
    "    plt.savefig(\"优惠券使用比例图.png\")\n",
    "    plt.show()"
   ]
  },
  {
   "attachments": {},
   "cell_type": "markdown",
   "id": "dd64e643",
   "metadata": {},
   "source": [
    "定义分析属性之间相关关系函数。"
   ]
  },
  {
   "cell_type": "code",
   "execution_count": 18,
   "id": "036d2906",
   "metadata": {},
   "outputs": [],
   "source": [
    "def attr_corr(df):\n",
    "    \"\"\"\n",
    "    @todo 分析属性之间相关关系并作图\n",
    "    @param df:\n",
    "    @return:\n",
    "    \"\"\"\n",
    "    df_corr = df.corr()\n",
    "    print(df_corr)\n",
    "    plt.subplots(figsize=(12, 9))\n",
    "    sns.heatmap(df_corr, square=True, vmax=1, vmin=-1, center=0)\n",
    "    plt.savefig(\"属性相关性heatmap.png\")\n",
    "    plt.show()"
   ]
  },
  {
   "attachments": {},
   "cell_type": "markdown",
   "id": "f89a391c",
   "metadata": {},
   "source": [
    "定义分析数据函数。"
   ]
  },
  {
   "cell_type": "code",
   "execution_count": 40,
   "id": "6899ae5b",
   "metadata": {},
   "outputs": [],
   "source": [
    "def analysis_data(df):\n",
    "    \"\"\"\n",
    "    todo: 分析数据质量、分布\n",
    "    \"\"\"\n",
    "    # *分析重复数据\n",
    "#     print(df_pro.duplicated().value_counts())\n",
    "    # *分析缺失值\n",
    "#     print(df_pro.isnull().sum())\n",
    "    # *分析User_id\n",
    "#     user_id(df)\n",
    "    # *分析商家\n",
    "#     merchant_id(df)\n",
    "    # *分析优惠券\n",
    "#     coupon_id(df)\n",
    "    # *分析优惠力度\n",
    "#     df['Discount_rate'] = df['Discount_rate'].astype(str).apply(convertRate)\n",
    "#     (df['Discount_rate'].value_counts() / len(df)).plot(kind='bar', title=\"discount_rate\")\n",
    "    # plt.savefig(\"优惠力度统计.png\")\n",
    "#     plt.show()\n",
    "    # *分析距离\n",
    "#     df['Distance'] = df['Distance'].apply(convertDistance)\n",
    "#     df['Distance'].unique()\n",
    "#     (df['Distance'].value_counts() / len(df)).plot(kind='bar',title='distance from merchant')\n",
    "    # plt.savefig(\"商家距离统计.png\")\n",
    "#     plt.show()\n",
    "    # *分析Date_received和Date属性\n",
    "#     date(df)\n",
    "    # *分析属性之间相关关系\n",
    "    attr_corr(df)"
   ]
  },
  {
   "attachments": {},
   "cell_type": "markdown",
   "id": "6428debd",
   "metadata": {},
   "source": [
    "### User_id分析\n"
   ]
  },
  {
   "cell_type": "code",
   "execution_count": 25,
   "id": "98e052d6",
   "metadata": {},
   "outputs": [
    {
     "name": "stdout",
     "output_type": "stream",
     "text": [
      "total number is 1053282\n",
      "unique user id is 510698\n",
      "        User_id  count\n",
      "460801  6641735    120\n",
      "190299  2751537    119\n",
      "350192  5054119     96\n",
      "480797  6929894     95\n",
      "196443  2839484     83\n",
      "340700  4917111     80\n",
      "34591    501441     73\n",
      "111133  1605133     70\n",
      "174405  2520933     69\n",
      "85746   1243042     69\n",
      "335436  4840568     59\n",
      "173492  2507268     57\n",
      "341671  4931155     56\n",
      "461774  6655171     52\n",
      "372659  5378522     49\n",
      "289206  4178170     48\n",
      "203525  2940145     47\n",
      "151456  2190887     46\n",
      "146384  2117872     46\n",
      "484011  6977597     44\n"
     ]
    },
    {
     "data": {
      "image/png": "[encoded data removed]",
      "text/plain": [
       "<Figure size 1750x800 with 2 Axes>"
      ]
     },
     "metadata": {},
     "output_type": "display_data"
    }
   ],
   "source": [
    "analysis_data(df_pro)"
   ]
  },
  {
   "attachments": {},
   "cell_type": "markdown",
   "id": "af83f7fc",
   "metadata": {},
   "source": [
    "首先是一个用户编号，在工程里用户特征是非常重要的，因为它具有个性化及统计意义。这个工程属于用户画像的一部分，比如用户的年龄划分，性别划分，教育程度划分都是基础的工作，当然在这个工程里并没有年龄，性别及教育程度的特征，可以不作讨论。  \n",
    "区分高活跃度用户-3，中毒活跃用户-2以及低活跃度用户-1，以及流失用户-0，做出图形化表示\n",
    "这个属性总数是1053282，但唯一标识的用户有510698，说明有用户重复领取一家店铺的优惠券，这也就解释了我们在质量分析中有大量的重复数据，这种情况下不属于异常情况，在后续分析中需要留意。\n",
    "我们识别出重复出现次数最多的20条用户的ID，这些用户是比较喜欢领取购物卷的客户，属于高活跃度用户。  \n",
    "> 从这个可视化结果，我们可以得到活跃度为1的用户占训练集的36.7%，活跃度为2的用户占4.7%，活跃度为3的用户占1%，其中消费记录在10次以上的活跃度定义为3,消费记录为5-9次的活跃度定义为2，消费记录为1-4的活跃度定义为1，只有一次记录的活跃度定义为0。"
   ]
  },
  {
   "attachments": {},
   "cell_type": "markdown",
   "id": "31b0e6ef",
   "metadata": {},
   "source": [
    "### Merchant_id分析"
   ]
  },
  {
   "cell_type": "code",
   "execution_count": 27,
   "id": "8b2de471",
   "metadata": {},
   "outputs": [
    {
     "name": "stdout",
     "output_type": "stream",
     "text": [
      "total number is 1053282\n",
      "unique user id is 5599\n",
      "total number is 1053282\n",
      "unique user id is 5599\n",
      "5599\n",
      "      Merchant_id   count\n",
      "2135         3381  122834\n",
      "281           450   63042\n",
      "482           760   44976\n",
      "3368         5341   36162\n",
      "1707         2709   35330\n",
      "986          1569   33600\n",
      "4785         7555   27713\n",
      "2936         4660   24867\n",
      "4049         6454   21575\n",
      "2279         3621   20779\n",
      "905          1433   20467\n",
      "1322         2099   16824\n",
      "4036         6434   16529\n",
      "2938         4663   15191\n",
      "927          1469   14531\n",
      "3062         4860   14102\n",
      "4446         7019   14004\n",
      "4364         6901   13886\n",
      "4070         6485   13439\n",
      "3596         5717   12875\n"
     ]
    },
    {
     "data": {
      "image/png": "[encoded data removed]",
      "text/plain": [
       "<Figure size 1750x800 with 2 Axes>"
      ]
     },
     "metadata": {},
     "output_type": "display_data"
    }
   ],
   "source": [
    "analysis_data(df_pro)"
   ]
  },
  {
   "attachments": {},
   "cell_type": "markdown",
   "id": "7f1a42cc",
   "metadata": {},
   "source": [
    "同上，定义商家活跃度，店铺记录大于1000的活跃度定义为3，店铺记录在100-1000之间的活跃度定义为2，店铺记录在20-100之间的活跃度定义为1，不足20的活跃度定义为0。  \n",
    "> merchant代表的商家，根据商家记录出现的次数划分商家，记录的数据小于等于20的占训练集的68.9%，大于20小于等于100次数占23.0%，大于100小于等于1000占6.4%，超过1000次记录占1.8%。统计次数最多的商家编号是3381，超过14万。"
   ]
  },
  {
   "attachments": {},
   "cell_type": "markdown",
   "id": "ab52dc34",
   "metadata": {},
   "source": [
    "### Coupon_id分析"
   ]
  },
  {
   "cell_type": "code",
   "execution_count": 29,
   "id": "584bbd71",
   "metadata": {},
   "outputs": [
    {
     "data": {
      "image/png": "[encoded data removed]",
      "text/plain": [
       "<Figure size 1750x800 with 2 Axes>"
      ]
     },
     "metadata": {},
     "output_type": "display_data"
    }
   ],
   "source": [
    "analysis_data(df_pro)"
   ]
  },
  {
   "attachments": {},
   "cell_type": "markdown",
   "id": "32469973",
   "metadata": {},
   "source": [
    "观察有发放优惠券的商家行为，发放数量大于1000的，将该id的活跃度定义为3，100-1000之间的活跃度定义为2，10-100之间的活跃度定义为1，不足10的活跃度定义为0。  \n",
    "> 在有优惠券的数据里，活跃度0的占53.9%，活跃度1的占39.6%，活跃度2的占5.2%，活跃度3的占1.4%，统计次数最多的优惠券编号是7610，超过4.6万。"
   ]
  },
  {
   "attachments": {},
   "cell_type": "markdown",
   "id": "3ab2d290",
   "metadata": {},
   "source": [
    "### Discount_rate分析"
   ]
  },
  {
   "cell_type": "code",
   "execution_count": 37,
   "id": "56bc8123",
   "metadata": {},
   "outputs": [
    {
     "data": {
      "image/png": "[encoded data removed]",
      "text/plain": [
       "<Figure size 640x480 with 1 Axes>"
      ]
     },
     "metadata": {},
     "output_type": "display_data"
    }
   ],
   "source": [
    "analysis_data(df_pro)"
   ]
  },
  {
   "attachments": {},
   "cell_type": "markdown",
   "id": "4ab95055",
   "metadata": {},
   "source": [
    "由于数据类型问题，可视化之前需要进行数据转换：x \\in [0,1]代表折扣率；x:y表示满x减y。单位是元 查看对应的数据格式中，1为NULL，2为(:),3为小数 像这种数据其实需要一定的数据转化，按照经验可以用(1-(20/150))为折扣率。  \n",
    "> 打折的优惠券的折扣率基本分布在0.5至0.97之间，9折优惠券最多，8.3折其次。"
   ]
  },
  {
   "attachments": {},
   "cell_type": "markdown",
   "id": "2218f9f4",
   "metadata": {},
   "source": [
    "### Distance分析"
   ]
  },
  {
   "cell_type": "code",
   "execution_count": 39,
   "id": "a6261168",
   "metadata": {},
   "outputs": [
    {
     "data": {
      "image/png": "[encoded data removed]",
      "text/plain": [
       "<Figure size 640x480 with 1 Axes>"
      ]
     },
     "metadata": {},
     "output_type": "display_data"
    }
   ],
   "source": [
    "analysis_data(df_pro)"
   ]
  },
  {
   "attachments": {},
   "cell_type": "markdown",
   "id": "1eb90c1d",
   "metadata": {},
   "source": [
    "经常活动的地点离该merchant的最近门店距离是x*500米（如果是连锁店，则取最近的一家门店），x\\in[0,10]；null表示无此信息，0表示低于500米，10表示大于5公里；对于null值进行编码，将null值编码为-1，进行数据可视化。\n",
    "> 可以统计Distance为0占总数的30%以上，在图中可以看到数据缺失值大概占11%左右，5公里以内距离越大占比越低，5公里之外的占比约为16%左右，可能是去该远处的商店特意去买某类商品"
   ]
  },
  {
   "attachments": {},
   "cell_type": "markdown",
   "id": "85b0ddd5",
   "metadata": {},
   "source": [
    "### Date_received和Date分析"
   ]
  },
  {
   "attachments": {},
   "cell_type": "markdown",
   "id": "bfc73abc",
   "metadata": {},
   "source": [
    "![](images/%E4%BC%98%E6%83%A0%E5%88%B8%E4%BD%BF%E7%94%A8%E5%9B%BE.png)"
   ]
  },
  {
   "attachments": {},
   "cell_type": "markdown",
   "id": "67393fd0",
   "metadata": {},
   "source": [
    "![](images/%E4%BC%98%E6%83%A0%E5%88%B8%E4%BD%BF%E7%94%A8%E6%AF%94%E4%BE%8B%E5%9B%BE.png)"
   ]
  },
  {
   "attachments": {},
   "cell_type": "markdown",
   "id": "d028b68d",
   "metadata": {},
   "source": [
    "上图为消费券发放与使用的柱状图，下图为消费券使用的比例图。\n",
    "> 从上图可以看出在2016年2月份左右，对应的时间为春节，优惠券发放数目是最多（上图），但消费的比例是最低的（下图），因此可以得出春节是一个比较明显的特征，而5月1日的表现却属于中规中矩，因此对于节日特征的选择需要慎重。   \n",
    "> 其次在3月20日左右，消费的比列是最高的，这种现象其实需要深究，比如说3月20日左右是否优惠券的折扣力度是否提高，那么就要观察折扣率力度大的优惠券折扣率在3月20日左右分布如何，是否比平时折扣率的力度要大等等。这些会在复合字段去分析，其实包活上述优惠券每天领取，消费，消费的比例都属于复合特征的一部分。"
   ]
  },
  {
   "attachments": {},
   "cell_type": "markdown",
   "id": "cecaa83d",
   "metadata": {},
   "source": [
    "### 属性相关性分析"
   ]
  },
  {
   "cell_type": "code",
   "execution_count": 41,
   "id": "8df73ff4",
   "metadata": {},
   "outputs": [
    {
     "name": "stdout",
     "output_type": "stream",
     "text": [
      "                  User_id  Merchant_id  Coupon_id  Discount_rate  Distance   \n",
      "User_id          1.000000     0.002253   0.000356       0.001642 -0.000065  \\\n",
      "Merchant_id      0.002253     1.000000   0.022176       0.115809  0.012783   \n",
      "Coupon_id        0.000356     0.022176   1.000000      -0.020009  0.053317   \n",
      "Discount_rate    0.001642     0.115809  -0.020009       1.000000 -0.004334   \n",
      "Distance        -0.000065     0.012783   0.053317      -0.004334  1.000000   \n",
      "Date_received   -0.001886    -0.112708  -0.103350      -0.074005 -0.249921   \n",
      "Date             0.000423    -0.011479  -0.101008       0.096326  0.056721   \n",
      "label            0.001979     0.028828   0.013425      -0.032779 -0.145253   \n",
      "sum                   NaN          NaN        NaN            NaN       NaN   \n",
      "sum_Merchant_id       NaN          NaN        NaN            NaN       NaN   \n",
      "\n",
      "                 Date_received      Date     label  sum  sum_Merchant_id  \n",
      "User_id              -0.001886  0.000423  0.001979  NaN              NaN  \n",
      "Merchant_id          -0.112708 -0.011479  0.028828  NaN              NaN  \n",
      "Coupon_id            -0.103350 -0.101008  0.013425  NaN              NaN  \n",
      "Discount_rate        -0.074005  0.096326 -0.032779  NaN              NaN  \n",
      "Distance             -0.249921  0.056721 -0.145253  NaN              NaN  \n",
      "Date_received         1.000000  0.974589  0.101071  NaN              NaN  \n",
      "Date                  0.974589  1.000000       NaN  NaN              NaN  \n",
      "label                 0.101071       NaN  1.000000  NaN              NaN  \n",
      "sum                        NaN       NaN       NaN  NaN              NaN  \n",
      "sum_Merchant_id            NaN       NaN       NaN  NaN              NaN  \n"
     ]
    },
    {
     "data": {
      "image/png": "[encoded data removed]",
      "text/plain": [
       "<Figure size 1200x900 with 2 Axes>"
      ]
     },
     "metadata": {},
     "output_type": "display_data"
    }
   ],
   "source": [
    "analysis_data(df_pro)"
   ]
  },
  {
   "attachments": {},
   "cell_type": "markdown",
   "id": "317051f7",
   "metadata": {},
   "source": [
    "相关性分析只针对数值类型，所以需要把特征转换为数值类型。  \n",
    "使用皮尔逊相关系数计算各个数值属性对应的相关关系，以及属性与label的相关关系，并使用图表的形式显示。  \n",
    "> 可以看到属性之间的相关关系，Date和Date_received之间相关性强，Distance和Date_received之间负相关，这从直觉上也可以理解。Date属性的heatmap为空值的原因是存在未使用优惠券的样本，即负样本，Date为空值，故对应heatmap为空。"
   ]
  },
  {
   "attachments": {},
   "cell_type": "markdown",
   "id": "193ae6cc",
   "metadata": {},
   "source": [
    "### 组合特征分析"
   ]
  },
  {
   "attachments": {},
   "cell_type": "markdown",
   "id": "19b7af9a",
   "metadata": {},
   "source": [
    "####  UM(User_id and Merchant_id)组合特征"
   ]
  },
  {
   "cell_type": "code",
   "execution_count": 45,
   "id": "d9bf5a29",
   "metadata": {},
   "outputs": [
    {
     "data": {
      "text/html": [
       "<div>\n",
       "<style scoped>\n",
       "    .dataframe tbody tr th:only-of-type {\n",
       "        vertical-align: middle;\n",
       "    }\n",
       "\n",
       "    .dataframe tbody tr th {\n",
       "        vertical-align: top;\n",
       "    }\n",
       "\n",
       "    .dataframe thead th {\n",
       "        text-align: right;\n",
       "    }\n",
       "</style>\n",
       "<table border=\"1\" class=\"dataframe\">\n",
       "  <thead>\n",
       "    <tr style=\"text-align: right;\">\n",
       "      <th></th>\n",
       "      <th>User_id</th>\n",
       "      <th>Merchant_id</th>\n",
       "      <th>sum</th>\n",
       "    </tr>\n",
       "  </thead>\n",
       "  <tbody>\n",
       "    <tr>\n",
       "      <th>0</th>\n",
       "      <td>4</td>\n",
       "      <td>1433</td>\n",
       "      <td>1</td>\n",
       "    </tr>\n",
       "    <tr>\n",
       "      <th>1</th>\n",
       "      <td>4</td>\n",
       "      <td>1469</td>\n",
       "      <td>1</td>\n",
       "    </tr>\n",
       "    <tr>\n",
       "      <th>2</th>\n",
       "      <td>35</td>\n",
       "      <td>3381</td>\n",
       "      <td>4</td>\n",
       "    </tr>\n",
       "    <tr>\n",
       "      <th>3</th>\n",
       "      <td>36</td>\n",
       "      <td>1041</td>\n",
       "      <td>1</td>\n",
       "    </tr>\n",
       "    <tr>\n",
       "      <th>4</th>\n",
       "      <td>36</td>\n",
       "      <td>5717</td>\n",
       "      <td>1</td>\n",
       "    </tr>\n",
       "  </tbody>\n",
       "</table>\n",
       "</div>"
      ],
      "text/plain": [
       "   User_id  Merchant_id  sum\n",
       "0        4         1433    1\n",
       "1        4         1469    1\n",
       "2       35         3381    4\n",
       "3       36         1041    1\n",
       "4       36         5717    1"
      ]
     },
     "execution_count": 45,
     "metadata": {},
     "output_type": "execute_result"
    }
   ],
   "source": [
    "um_count = df_pro.groupby(['User_id','Merchant_id'], as_index = False)['sum'].count()\n",
    "um_count.head(5)"
   ]
  },
  {
   "cell_type": "code",
   "execution_count": 46,
   "id": "5cbab8ad",
   "metadata": {},
   "outputs": [
    {
     "name": "stdout",
     "output_type": "stream",
     "text": [
      "<class 'pandas.core.frame.DataFrame'>\n",
      "RangeIndex: 856475 entries, 0 to 856474\n",
      "Data columns (total 3 columns):\n",
      " #   Column       Non-Null Count   Dtype\n",
      "---  ------       --------------   -----\n",
      " 0   User_id      856475 non-null  int64\n",
      " 1   Merchant_id  856475 non-null  int64\n",
      " 2   sum          856475 non-null  int64\n",
      "dtypes: int64(3)\n",
      "memory usage: 19.6 MB\n"
     ]
    }
   ],
   "source": [
    "um_count.info()"
   ]
  },
  {
   "attachments": {},
   "cell_type": "markdown",
   "id": "211295d2",
   "metadata": {},
   "source": [
    "这个特征就可以告诉我们，每个用户所对应的商家的记录有多少条"
   ]
  },
  {
   "attachments": {},
   "cell_type": "markdown",
   "id": "06c6bea2",
   "metadata": {},
   "source": [
    "####  UC(User_id and Coupon_id)组合特征"
   ]
  },
  {
   "cell_type": "code",
   "execution_count": 43,
   "id": "2f26ce70",
   "metadata": {},
   "outputs": [
    {
     "data": {
      "text/html": [
       "<div>\n",
       "<style scoped>\n",
       "    .dataframe tbody tr th:only-of-type {\n",
       "        vertical-align: middle;\n",
       "    }\n",
       "\n",
       "    .dataframe tbody tr th {\n",
       "        vertical-align: top;\n",
       "    }\n",
       "\n",
       "    .dataframe thead th {\n",
       "        text-align: right;\n",
       "    }\n",
       "</style>\n",
       "<table border=\"1\" class=\"dataframe\">\n",
       "  <thead>\n",
       "    <tr style=\"text-align: right;\">\n",
       "      <th></th>\n",
       "      <th>User_id</th>\n",
       "      <th>Coupon_id</th>\n",
       "      <th>count</th>\n",
       "    </tr>\n",
       "  </thead>\n",
       "  <tbody>\n",
       "    <tr>\n",
       "      <th>0</th>\n",
       "      <td>4</td>\n",
       "      <td>2902.0</td>\n",
       "      <td>1</td>\n",
       "    </tr>\n",
       "    <tr>\n",
       "      <th>1</th>\n",
       "      <td>4</td>\n",
       "      <td>8735.0</td>\n",
       "      <td>1</td>\n",
       "    </tr>\n",
       "    <tr>\n",
       "      <th>2</th>\n",
       "      <td>35</td>\n",
       "      <td>1807.0</td>\n",
       "      <td>1</td>\n",
       "    </tr>\n",
       "    <tr>\n",
       "      <th>3</th>\n",
       "      <td>35</td>\n",
       "      <td>9776.0</td>\n",
       "      <td>1</td>\n",
       "    </tr>\n",
       "    <tr>\n",
       "      <th>4</th>\n",
       "      <td>35</td>\n",
       "      <td>11951.0</td>\n",
       "      <td>2</td>\n",
       "    </tr>\n",
       "    <tr>\n",
       "      <th>5</th>\n",
       "      <td>36</td>\n",
       "      <td>12349.0</td>\n",
       "      <td>1</td>\n",
       "    </tr>\n",
       "    <tr>\n",
       "      <th>6</th>\n",
       "      <td>36</td>\n",
       "      <td>13490.0</td>\n",
       "      <td>1</td>\n",
       "    </tr>\n",
       "    <tr>\n",
       "      <th>7</th>\n",
       "      <td>64</td>\n",
       "      <td>11173.0</td>\n",
       "      <td>1</td>\n",
       "    </tr>\n",
       "    <tr>\n",
       "      <th>8</th>\n",
       "      <td>110</td>\n",
       "      <td>190.0</td>\n",
       "      <td>1</td>\n",
       "    </tr>\n",
       "    <tr>\n",
       "      <th>9</th>\n",
       "      <td>110</td>\n",
       "      <td>3887.0</td>\n",
       "      <td>1</td>\n",
       "    </tr>\n",
       "  </tbody>\n",
       "</table>\n",
       "</div>"
      ],
      "text/plain": [
       "   User_id  Coupon_id  count\n",
       "0        4     2902.0      1\n",
       "1        4     8735.0      1\n",
       "2       35     1807.0      1\n",
       "3       35     9776.0      1\n",
       "4       35    11951.0      2\n",
       "5       36    12349.0      1\n",
       "6       36    13490.0      1\n",
       "7       64    11173.0      1\n",
       "8      110      190.0      1\n",
       "9      110     3887.0      1"
      ]
     },
     "execution_count": 43,
     "metadata": {},
     "output_type": "execute_result"
    }
   ],
   "source": [
    "uc_count = df_pro.groupby(['User_id','Coupon_id'], as_index = False)['sum'].agg({'count':np.sum})\n",
    "uc_count.head(10)"
   ]
  },
  {
   "cell_type": "code",
   "execution_count": 48,
   "id": "00917596",
   "metadata": {},
   "outputs": [
    {
     "name": "stdout",
     "output_type": "stream",
     "text": [
      "<class 'pandas.core.frame.DataFrame'>\n",
      "RangeIndex: 957758 entries, 0 to 957757\n",
      "Data columns (total 3 columns):\n",
      " #   Column     Non-Null Count   Dtype  \n",
      "---  ------     --------------   -----  \n",
      " 0   User_id    957758 non-null  int64  \n",
      " 1   Coupon_id  957758 non-null  float64\n",
      " 2   count      957758 non-null  int64  \n",
      "dtypes: float64(1), int64(2)\n",
      "memory usage: 21.9 MB\n"
     ]
    }
   ],
   "source": [
    "uc_count.info()"
   ]
  },
  {
   "attachments": {},
   "cell_type": "markdown",
   "id": "8e000f24",
   "metadata": {},
   "source": [
    "同样可以统计得到每个用户所对应优惠券的数目，再根据上述UM统计可以知道编号为4，35分别有2次及3次记录，而这些记录都是有优惠券。"
   ]
  },
  {
   "attachments": {},
   "cell_type": "markdown",
   "id": "6f73a80b",
   "metadata": {},
   "source": [
    "#### UR(User_id and Discount_rate)组合特征"
   ]
  },
  {
   "cell_type": "code",
   "execution_count": 50,
   "id": "f0fbe8e2",
   "metadata": {},
   "outputs": [
    {
     "data": {
      "text/html": [
       "<div>\n",
       "<style scoped>\n",
       "    .dataframe tbody tr th:only-of-type {\n",
       "        vertical-align: middle;\n",
       "    }\n",
       "\n",
       "    .dataframe tbody tr th {\n",
       "        vertical-align: top;\n",
       "    }\n",
       "\n",
       "    .dataframe thead th {\n",
       "        text-align: right;\n",
       "    }\n",
       "</style>\n",
       "<table border=\"1\" class=\"dataframe\">\n",
       "  <thead>\n",
       "    <tr style=\"text-align: right;\">\n",
       "      <th></th>\n",
       "      <th>User_id</th>\n",
       "      <th>Discount_rate</th>\n",
       "      <th>count</th>\n",
       "    </tr>\n",
       "  </thead>\n",
       "  <tbody>\n",
       "    <tr>\n",
       "      <th>0</th>\n",
       "      <td>4</td>\n",
       "      <td>0.83</td>\n",
       "      <td>1</td>\n",
       "    </tr>\n",
       "    <tr>\n",
       "      <th>1</th>\n",
       "      <td>4</td>\n",
       "      <td>0.95</td>\n",
       "      <td>1</td>\n",
       "    </tr>\n",
       "    <tr>\n",
       "      <th>2</th>\n",
       "      <td>35</td>\n",
       "      <td>0.50</td>\n",
       "      <td>1</td>\n",
       "    </tr>\n",
       "    <tr>\n",
       "      <th>3</th>\n",
       "      <td>35</td>\n",
       "      <td>0.90</td>\n",
       "      <td>3</td>\n",
       "    </tr>\n",
       "    <tr>\n",
       "      <th>4</th>\n",
       "      <td>36</td>\n",
       "      <td>0.75</td>\n",
       "      <td>1</td>\n",
       "    </tr>\n",
       "  </tbody>\n",
       "</table>\n",
       "</div>"
      ],
      "text/plain": [
       "   User_id  Discount_rate  count\n",
       "0        4           0.83      1\n",
       "1        4           0.95      1\n",
       "2       35           0.50      1\n",
       "3       35           0.90      3\n",
       "4       36           0.75      1"
      ]
     },
     "execution_count": 50,
     "metadata": {},
     "output_type": "execute_result"
    }
   ],
   "source": [
    "ur_count = df_pro.groupby(['User_id','Discount_rate'], as_index = False)['sum'].agg({'count':np.sum})\n",
    "ur_count.head()"
   ]
  },
  {
   "cell_type": "code",
   "execution_count": 51,
   "id": "d7ad732b",
   "metadata": {},
   "outputs": [
    {
     "name": "stdout",
     "output_type": "stream",
     "text": [
      "<class 'pandas.core.frame.DataFrame'>\n",
      "RangeIndex: 751337 entries, 0 to 751336\n",
      "Data columns (total 3 columns):\n",
      " #   Column         Non-Null Count   Dtype  \n",
      "---  ------         --------------   -----  \n",
      " 0   User_id        751337 non-null  int64  \n",
      " 1   Discount_rate  751337 non-null  float64\n",
      " 2   count          751337 non-null  int64  \n",
      "dtypes: float64(1), int64(2)\n",
      "memory usage: 17.2 MB\n"
     ]
    }
   ],
   "source": [
    "ur_count.info()"
   ]
  },
  {
   "attachments": {},
   "cell_type": "markdown",
   "id": "4c365b7b",
   "metadata": {},
   "source": [
    "可以统计用户优惠券折扣率的分布情况，也可以统计到每个用户平均折扣率。"
   ]
  },
  {
   "attachments": {},
   "cell_type": "markdown",
   "id": "aa8117c4",
   "metadata": {},
   "source": [
    "####  UD(User_id and Distance)组合特征"
   ]
  },
  {
   "cell_type": "code",
   "execution_count": 53,
   "id": "c4d3c590",
   "metadata": {},
   "outputs": [
    {
     "data": {
      "text/html": [
       "<div>\n",
       "<style scoped>\n",
       "    .dataframe tbody tr th:only-of-type {\n",
       "        vertical-align: middle;\n",
       "    }\n",
       "\n",
       "    .dataframe tbody tr th {\n",
       "        vertical-align: top;\n",
       "    }\n",
       "\n",
       "    .dataframe thead th {\n",
       "        text-align: right;\n",
       "    }\n",
       "</style>\n",
       "<table border=\"1\" class=\"dataframe\">\n",
       "  <thead>\n",
       "    <tr style=\"text-align: right;\">\n",
       "      <th></th>\n",
       "      <th>User_id</th>\n",
       "      <th>Distance</th>\n",
       "      <th>count</th>\n",
       "    </tr>\n",
       "  </thead>\n",
       "  <tbody>\n",
       "    <tr>\n",
       "      <th>0</th>\n",
       "      <td>4</td>\n",
       "      <td>10</td>\n",
       "      <td>2</td>\n",
       "    </tr>\n",
       "    <tr>\n",
       "      <th>1</th>\n",
       "      <td>35</td>\n",
       "      <td>0</td>\n",
       "      <td>4</td>\n",
       "    </tr>\n",
       "    <tr>\n",
       "      <th>2</th>\n",
       "      <td>36</td>\n",
       "      <td>4</td>\n",
       "      <td>1</td>\n",
       "    </tr>\n",
       "    <tr>\n",
       "      <th>3</th>\n",
       "      <td>36</td>\n",
       "      <td>8</td>\n",
       "      <td>1</td>\n",
       "    </tr>\n",
       "    <tr>\n",
       "      <th>4</th>\n",
       "      <td>64</td>\n",
       "      <td>2</td>\n",
       "      <td>1</td>\n",
       "    </tr>\n",
       "  </tbody>\n",
       "</table>\n",
       "</div>"
      ],
      "text/plain": [
       "   User_id  Distance  count\n",
       "0        4        10      2\n",
       "1       35         0      4\n",
       "2       36         4      1\n",
       "3       36         8      1\n",
       "4       64         2      1"
      ]
     },
     "execution_count": 53,
     "metadata": {},
     "output_type": "execute_result"
    }
   ],
   "source": [
    "ud_count = df_pro.groupby(['User_id','Distance'], as_index = False)['sum'].agg({'count':np.sum})\n",
    "ud_count.head()"
   ]
  },
  {
   "cell_type": "code",
   "execution_count": 54,
   "id": "ec3264a1",
   "metadata": {},
   "outputs": [
    {
     "name": "stdout",
     "output_type": "stream",
     "text": [
      "<class 'pandas.core.frame.DataFrame'>\n",
      "RangeIndex: 700569 entries, 0 to 700568\n",
      "Data columns (total 3 columns):\n",
      " #   Column    Non-Null Count   Dtype\n",
      "---  ------    --------------   -----\n",
      " 0   User_id   700569 non-null  int64\n",
      " 1   Distance  700569 non-null  int64\n",
      " 2   count     700569 non-null  int64\n",
      "dtypes: int64(3)\n",
      "memory usage: 16.0 MB\n"
     ]
    }
   ],
   "source": [
    "ud_count.info()"
   ]
  },
  {
   "attachments": {},
   "cell_type": "markdown",
   "id": "51e9c200",
   "metadata": {},
   "source": [
    "客户4在距离10即超过5公里的地方领取了2单优惠券"
   ]
  },
  {
   "attachments": {},
   "cell_type": "markdown",
   "id": "58455ed5",
   "metadata": {},
   "source": [
    "## 三、模型选择\n",
    "### 1、模型调研"
   ]
  },
  {
   "attachments": {},
   "cell_type": "markdown",
   "id": "32f0f33d",
   "metadata": {},
   "source": [
    "备选模型\n",
    "- LR：LR回归使用sigmoid函数，将线性模型 wTx 的结果压缩到[0,1] 之间，使其拥有概率意义。其本质还是一个线性模型，实现相对简单。    \n",
    "   优点：   \n",
    "       1. 计算代价不高，对时间和内存需求较小,很适合大数据\n",
    "       2. 使用梯度下降的优化算法可以用于分布式系统，并且还有在线算法实现，用较少的资源处理大型数据\n",
    "       3. LR对于数据中小噪声的鲁棒性很好，并且不会受到轻微的多重共线性的特别影响 \n",
    "      \n",
    "   缺点：  \n",
    "       1. 不适应数据缺失，特征空间很大的数据\n",
    "- SVM：假设问题是二分类器，就是在特征空间中寻找使正类负类间隔最大的超平面的线性分类器。根据输入的数量类型不同，得到分类器也不同。    \n",
    "   优点：   \n",
    "       1. SVM有多种核可以选择，可以处理各种非线性问题\n",
    "       2. SVM 的最终决策函数只由少数的支持向量所确定,计算的复杂性取决于支持向量的数目,而不是样本空间的维数,这在某种意义上避免了“维数灾难”\n",
    "       3. 支持向量样本集具有一定的鲁棒性 \n",
    "   \n",
    "   缺点：  \n",
    "       1. SVM算法对大规模训练样本难以实施.因为SVM用二次规划求解支持向量，数目很大，时间消耗很大,大多数情况准确率都比LR要高，但是模型较大，训练效率低。\n",
    "       2. 用SVM解决多分类问题存在困难,经典的算法只给出了二分类的情况\n",
    "- RF：针对样本，会随机抽取不同的样本和特征训练不剪枝的CART树，一直训练到达到预定义的基分类器个数。对于输出，针对分类问题，预测结果是各个基分类器的投票，针对回归问题，预测结果是各个分类器的输出结果的平均值。   \n",
    "   优点：   \n",
    "       1. 相比GBST,它默认参数的效果不错,可以很好地作为baseline模型\n",
    "       2. 时间复杂度主要取决于数据集的复杂程度,如果数据集很复杂的话, 需要100-200棵树, 如果不复杂的话,一般10-100棵树就好\n",
    "       3. 模型很简单 \n",
    "       4. 采取随机采取的方式,不一定会采到特征, 所以抗噪声能力很好\n",
    "   \n",
    "   缺点：  \n",
    "       1. 空间复杂度因为需要训练大量的树, 所以很耗内存\n",
    "       2. 每个基分类器的准确率不是很高，所以要求有大量的基分类器才能取得良好的效果，一般是100-200，整体的训练时间很长\n",
    "\n",
    "- ADABoost：将样本初始赋一个权重，用这些样本训练一个基分类器，根据这个基分类器对样本的表现调整样本的权重，如果样本分类器正确的话，权重降低，如果样本分类错误的话，权重上升。再用调整过的权重的样本训练基分类器，反复学习知道分类器个数达到指定个数。对预测样本的输出是结合所有基分类器的权重输出。最小化目标是指数损失函数。      \n",
    "   优点：   \n",
    "       1. 在小数据上, 模型选用简单的树模型, 有深度限制并且不需要大量的树, 所以时间很快\n",
    "       2. 需要树的数量少, 消耗的空间也就小\n",
    "       3. 树的个数和缩减率,调参是比较容易的\n",
    "       4. 不改变训练数据，只是改变训练样本的权重分布\n",
    "\n",
    "   缺点：  \n",
    "       1. 模型稍微优点复杂,主要是样本的权重调整计算公式上\n",
    "       2. 过分关注容易错误分类的样本，如果错误分类样本是噪声点，那么算法容易产生过拟合\n",
    "       3. 是个二分类算法\n",
    "\n",
    "- GBDT：是一种迭代的决策回归树算法,也是一种典型的Boosting算法。      \n",
    "   优点：   \n",
    "       1. 准确率: 针对分类和回归任务都有很好的性能\n",
    "       2. 时间: 小型的数据上,不需要训练大量的树, 模型也比较简单, 时间复杂度较小\n",
    "       3. 空间较小\n",
    "       4. 模型最后的公式很简单\n",
    "\n",
    "   缺点：  \n",
    "       1. 在大数据上, 不能用类似 mini batch 的方式来训练，需要对数据进行无数次的遍历。如果想要速度，就需要把数据都预加载在内存中，但这样数据就会受限于内存的大小；如果想要训练更多的数据，就要使用外存版本的决策树算法。虽然外存算法也有较多优化，SSD也在普及，但在频繁的 IO 下，速度还是比较慢的。\n",
    "       2. 对噪声异常敏感\n",
    "       \n",
    "       \n",
    "- 选择理由：首先SVM和LR淘汰：SVM解决小样本情况下的机器学习问题上有很大优势，而这是一个大样本问题。LR处理非线性特征效果不好。\n",
    "\n",
    "最终选择RF和DT两个模型"
   ]
  },
  {
   "attachments": {},
   "cell_type": "markdown",
   "id": "628b60c9",
   "metadata": {},
   "source": [
    "### 2、模型训练\n",
    "#### 数据准备"
   ]
  },
  {
   "cell_type": "code",
   "execution_count": 56,
   "id": "57e2e40d",
   "metadata": {},
   "outputs": [],
   "source": [
    "import pandas as pd\n",
    "import numpy as np\n",
    "\n",
    "\n",
    "#show the result with picture\n",
    "import seaborn as sns\n",
    "from matplotlib import pyplot as plt\n",
    "#show the datetime info\n",
    "from datetime import datetime\n",
    "from  sklearn  import  preprocessing\n",
    "\n",
    "from sklearn.model_selection import train_test_split"
   ]
  },
  {
   "cell_type": "code",
   "execution_count": 57,
   "id": "f7435a40",
   "metadata": {},
   "outputs": [
    {
     "name": "stderr",
     "output_type": "stream",
     "text": [
      "C:\\Users\\24582\\AppData\\Local\\Temp\\ipykernel_2284\\1959929184.py:5: SettingWithCopyWarning: \n",
      "A value is trying to be set on a copy of a slice from a DataFrame.\n",
      "Try using .loc[row_indexer,col_indexer] = value instead\n",
      "\n",
      "See the caveats in the documentation: https://pandas.pydata.org/pandas-docs/stable/user_guide/indexing.html#returning-a-view-versus-a-copy\n",
      "  X_data['Discount_rate'] = X_data['Discount_rate'].apply(convertRate)\n"
     ]
    },
    {
     "name": "stdout",
     "output_type": "stream",
     "text": [
      "X_data is  (1053282, 6)\n",
      "         User_id  Merchant_id  Coupon_id  Distance  Date_received   \n",
      "0        1439408         4663    11002.0         1     20160528.0  \\\n",
      "1        1439408         2632     8591.0         0     20160217.0   \n",
      "2        1439408         2632     1078.0         0     20160319.0   \n",
      "3        1439408         2632     8591.0         0     20160613.0   \n",
      "4        1439408         2632     8591.0         0     20160516.0   \n",
      "...          ...          ...        ...       ...            ...   \n",
      "1053277   212662         3021     3739.0         6     20160504.0   \n",
      "1053278   212662         2934     5686.0         2     20160321.0   \n",
      "1053279   212662         3021     3739.0         6     20160508.0   \n",
      "1053280   752472         7113     1633.0         6     20160613.0   \n",
      "1053281   752472         3621     2705.0         0     20160523.0   \n",
      "\n",
      "         Discount_rate  \n",
      "0                 0.87  \n",
      "1                 0.95  \n",
      "2                 0.95  \n",
      "3                 0.95  \n",
      "4                 0.95  \n",
      "...                ...  \n",
      "1053277           0.97  \n",
      "1053278           0.83  \n",
      "1053279           0.97  \n",
      "1053280           0.80  \n",
      "1053281           0.75  \n",
      "\n",
      "[1053282 rows x 6 columns]\n",
      "label\n",
      "0    977900\n",
      "1     75382\n",
      "Name: count, dtype: int64\n"
     ]
    },
    {
     "name": "stderr",
     "output_type": "stream",
     "text": [
      "C:\\Users\\24582\\AppData\\Local\\Temp\\ipykernel_2284\\1959929184.py:6: SettingWithCopyWarning: \n",
      "A value is trying to be set on a copy of a slice from a DataFrame.\n",
      "Try using .loc[row_indexer,col_indexer] = value instead\n",
      "\n",
      "See the caveats in the documentation: https://pandas.pydata.org/pandas-docs/stable/user_guide/indexing.html#returning-a-view-versus-a-copy\n",
      "  X_data['Distance'] = X_data['Distance'].apply(convertDistance)\n"
     ]
    }
   ],
   "source": [
    "train = pd.read_csv('datasets/offline_train.csv/processed_offline_train.csv')\n",
    "select_columns=['User_id', 'Merchant_id', 'Coupon_id',  'Distance',\n",
    "       'Date_received', 'Discount_rate']\n",
    "X_data = train[select_columns]\n",
    "X_data['Discount_rate'] = X_data['Discount_rate'].apply(convertRate)\n",
    "X_data['Distance'] = X_data['Distance'].apply(convertDistance)\n",
    "y_label = train['label']\n",
    "print(\"X_data is \",np.shape(X_data))\n",
    "print(X_data)\n",
    "print(y_label.value_counts())"
   ]
  },
  {
   "attachments": {},
   "cell_type": "markdown",
   "id": "e159622f",
   "metadata": {},
   "source": [
    "筛选特征，本数据是由于特征个数比较少，所以从业务的角度分析获取那些特征：由于Date存在null值，而且这个值不是缺失值，代表具体的含义即没用没有使用，而用户用不用优惠卷，使用label来表示，所以把Date（消费优惠券的时间）这个属性删除。最后初步筛选的特征为'User_id', 'Merchant_id', 'Coupon_id', 'Distance', 'Date_received','Discount_rate'。"
   ]
  },
  {
   "attachments": {},
   "cell_type": "markdown",
   "id": "fd194547",
   "metadata": {},
   "source": [
    "由于目标label变量存在分布不均匀的问题，在模型训练的时候需要对样本进行重采样（SMOTE），然后对数据进行标准化（归一化）"
   ]
  },
  {
   "cell_type": "code",
   "execution_count": 58,
   "id": "ae1128e6",
   "metadata": {},
   "outputs": [],
   "source": [
    "from sklearn.preprocessing import MinMaxScaler#导入包\n",
    "min_max_scaler = MinMaxScaler()#创建模型\n",
    "X_data_normal = pd.DataFrame(min_max_scaler.fit_transform(X_data),columns=X_data.columns)"
   ]
  },
  {
   "cell_type": "code",
   "execution_count": 59,
   "id": "0c64a6f5",
   "metadata": {},
   "outputs": [],
   "source": [
    "from imblearn.over_sampling import SMOTE"
   ]
  },
  {
   "cell_type": "code",
   "execution_count": 60,
   "id": "a6686025",
   "metadata": {},
   "outputs": [],
   "source": [
    "smote = SMOTE(random_state=42)"
   ]
  },
  {
   "cell_type": "code",
   "execution_count": 61,
   "id": "5253fce9",
   "metadata": {},
   "outputs": [
    {
     "name": "stdout",
     "output_type": "stream",
     "text": [
      "[[0.19554388 0.52642873 0.78332384 0.18181818 0.8307393  0.84810127]\n",
      " [0.19554388 0.29704089 0.6116491  0.09090909 0.22568093 0.94936709]\n",
      " [0.19554388 0.29704089 0.07668755 0.09090909 0.42412451 0.94936709]\n",
      " ...\n",
      " [0.02888971 0.34097583 0.26616349 0.63636364 0.79182879 0.97468354]\n",
      " [0.10222322 0.80313982 0.11620621 0.63636364 0.99610895 0.75949367]\n",
      " [0.10222322 0.40874181 0.19253774 0.09090909 0.82101167 0.69620253]]\n"
     ]
    }
   ],
   "source": [
    "print(X_data_normal.values)"
   ]
  },
  {
   "cell_type": "code",
   "execution_count": 62,
   "id": "9f327b5d",
   "metadata": {},
   "outputs": [
    {
     "name": "stdout",
     "output_type": "stream",
     "text": [
      "[False False False False False False]\n"
     ]
    }
   ],
   "source": [
    "print(np.isnan(X_data_normal.values).any(axis=0))"
   ]
  },
  {
   "cell_type": "code",
   "execution_count": 64,
   "id": "513acf69",
   "metadata": {},
   "outputs": [
    {
     "name": "stdout",
     "output_type": "stream",
     "text": [
      "[ True  True  True  True  True  True]\n"
     ]
    }
   ],
   "source": [
    "print(~np.isnan(X_data_normal.values).any(axis=0))"
   ]
  },
  {
   "attachments": {},
   "cell_type": "markdown",
   "id": "de28186b",
   "metadata": {},
   "source": [
    "无缺失值"
   ]
  },
  {
   "cell_type": "code",
   "execution_count": 65,
   "id": "edd171b7",
   "metadata": {},
   "outputs": [
    {
     "name": "stdout",
     "output_type": "stream",
     "text": [
      "[[0.19554388 0.52642873 0.78332384 0.18181818 0.8307393  0.84810127]\n",
      " [0.19554388 0.29704089 0.6116491  0.09090909 0.22568093 0.94936709]\n",
      " [0.19554388 0.29704089 0.07668755 0.09090909 0.42412451 0.94936709]\n",
      " ...\n",
      " [0.02888971 0.34097583 0.26616349 0.63636364 0.79182879 0.97468354]\n",
      " [0.10222322 0.80313982 0.11620621 0.63636364 0.99610895 0.75949367]\n",
      " [0.10222322 0.40874181 0.19253774 0.09090909 0.82101167 0.69620253]]\n"
     ]
    }
   ],
   "source": [
    "print(X_data_normal.values[:, ~np.isnan(X_data_normal.values).any(axis=0)])"
   ]
  },
  {
   "attachments": {},
   "cell_type": "markdown",
   "id": "d3b70bc6",
   "metadata": {},
   "source": [
    "由于总共就6个特征，特征的维度相对较小，所以特征选择在这里就先跳过，如果后续特征增加，建议使用RandomForestClassifier或者RFE"
   ]
  },
  {
   "attachments": {},
   "cell_type": "markdown",
   "id": "20682438",
   "metadata": {},
   "source": [
    "#### 样本选择"
   ]
  },
  {
   "cell_type": "code",
   "execution_count": 66,
   "id": "cf555ab6",
   "metadata": {},
   "outputs": [],
   "source": [
    "X_train_res, y_train_res = smote.fit_resample(X_data_normal.values[:, ~np.isnan(X_data_normal.values).any(axis=0)], y_label.values)"
   ]
  },
  {
   "cell_type": "code",
   "execution_count": 67,
   "id": "4593266d",
   "metadata": {},
   "outputs": [],
   "source": [
    "def evaluate_mode(y_test,y_pre,mode,X_test):\n",
    "    from sklearn.metrics import accuracy_score\n",
    "    from sklearn.metrics import precision_score\n",
    "    from sklearn.metrics import recall_score\n",
    "    from sklearn.metrics import f1_score\n",
    "    from sklearn.metrics import auc\n",
    "    acc= round(accuracy_score(y_test, y_pre)* 100, 2)\n",
    "    pre= round(precision_score(y_test, y_pre)*100,2)\n",
    "    rec= round(recall_score(y_test, y_pre)*100,2)\n",
    "    f1=round(f1_score(y_test,y_pre)*100,2)\n",
    "    from sklearn.metrics import roc_curve #导入ROC曲线函数\n",
    "    fpr, tpr, thresholds = roc_curve(y_test, mode.predict_proba(X_test)[:,1], pos_label=1)\n",
    "    roc_auc =round(auc(fpr,tpr),2)\n",
    "    print(\"accourcy=%f\\tpre=%f\\trecall=%f\\tf1=%f\\tauc=%f\\n\"%(acc,pre,rec,f1,roc_auc))\n",
    "    return acc,pre,rec,f1,roc_auc\n",
    "#ROC曲线\n",
    "def draw_ROC(X_test):\n",
    "    from sklearn.metrics import roc_curve #导入ROC曲线函数\n",
    "    fpr, tpr, thresholds = roc_curve(y_test, mode.predict_proba(X_test)[:,1], pos_label=1)\n",
    "    plt.plot(fpr, tpr, linewidth=2, label = 'ROC of Liner', color = 'green') #作出ROC曲线\n",
    "    plt.xlabel('False Positive Rate') #坐标轴标签\n",
    "    plt.ylabel('True Positive Rate') #坐标轴标签\n",
    "    plt.ylim(0,1.05) #边界范围\n",
    "    plt.xlim(0,1.05) #边界范围\n",
    "    plt.legend(loc=4) #图例"
   ]
  },
  {
   "attachments": {},
   "cell_type": "markdown",
   "id": "30b38e45",
   "metadata": {},
   "source": [
    "封装好了一个计算准确率，精确率，召回率，F1值以及ROC曲线以及AUC线下面积的函数，用作评估指标   "
   ]
  },
  {
   "attachments": {},
   "cell_type": "markdown",
   "id": "cbafc8c3",
   "metadata": {},
   "source": [
    "#### 模型定义\n",
    "\n",
    "通过留出法对样本进行拆分，多次计算求平均值"
   ]
  },
  {
   "cell_type": "code",
   "execution_count": 69,
   "id": "5cf5d180",
   "metadata": {},
   "outputs": [],
   "source": [
    "def linear(test):\n",
    "    from sklearn.model_selection import train_test_split#留出法\n",
    "    from sklearn.linear_model import LogisticRegression#线性回归分类器\n",
    "    dt_rest=[]\n",
    "    for times in range(5):\n",
    "        X_train,X_test,y_train,y_test = train_test_split(X_train_res,y_train_res,test_size=0.2, random_state=42+times)\n",
    "        #创建模型\n",
    "        mode=LogisticRegression()\n",
    "        mode.fit(X_train,y_train)\n",
    "        y_pre=mode.predict(X_test)\n",
    "        dt_rest.append(evaluate_mode(y_test,y_pre,mode,X_test))\n",
    "    np.array(dt_rest).mean(axis=0)\n",
    "    cls = mode.predict(test)\n",
    "    prob = mode.predict_proba(test)\n",
    "    return prob"
   ]
  },
  {
   "attachments": {},
   "cell_type": "markdown",
   "id": "fc0cc8eb",
   "metadata": {},
   "source": [
    "线性模型定义"
   ]
  },
  {
   "cell_type": "code",
   "execution_count": 70,
   "id": "e1c7c91c",
   "metadata": {},
   "outputs": [],
   "source": [
    "def DT(test):\n",
    "    from sklearn.tree import DecisionTreeClassifier\n",
    "    mode=DecisionTreeClassifier(criterion=\"entropy\",max_depth=10)\n",
    "    #mode=DecisionTreeClassifier(criterion=\"gini\",max_depth=10)\n",
    "    dt_rest=[]\n",
    "    for times in range(5):\n",
    "        X_train,X_test,y_train,y_test = train_test_split(X_train_res,y_train_res,test_size=0.2, random_state=42+times)\n",
    "        mode.fit(X_train,y_train)\n",
    "        y_pre=mode.predict(X_test)\n",
    "        dt_rest.append(evaluate_mode(y_test,y_pre,mode,X_test))\n",
    "    np.array(dt_rest).mean(axis=0)\n",
    "    cls = mode.predict(test)\n",
    "    prob = mode.predict_proba(test)\n",
    "    return prob"
   ]
  },
  {
   "attachments": {},
   "cell_type": "markdown",
   "id": "e693250d",
   "metadata": {},
   "source": [
    "决策树模型定义"
   ]
  },
  {
   "cell_type": "code",
   "execution_count": 71,
   "id": "0b888e38",
   "metadata": {},
   "outputs": [],
   "source": [
    "def RF(test):\n",
    "    from sklearn.ensemble import RandomForestClassifier\n",
    "    dt_rest=[]\n",
    "    for n_estimator in range(10,20,10):\n",
    "        rf_rest=[]\n",
    "        mode = RandomForestClassifier(n_estimators=n_estimator,criterion=\"entropy\",max_depth=10,max_features=3)\n",
    "        for times in range(5):\n",
    "            X_train,X_test,y_train,y_test = train_test_split(X_train_res,y_train_res,test_size=0.2, random_state=42+times)\n",
    "        mode.fit(X_train,y_train)\n",
    "        y_pre=mode.predict(X_test)\n",
    "        dt_rest.append(evaluate_mode(y_test,y_pre,mode,X_test))\n",
    "        \n",
    "    np.array(dt_rest).mean(axis=0)\n",
    "    cls = mode.predict(test)\n",
    "    prob = mode.predict_proba(test)\n",
    "    return prob"
   ]
  },
  {
   "attachments": {},
   "cell_type": "markdown",
   "id": "f538f758",
   "metadata": {},
   "source": [
    "RF模型定义"
   ]
  },
  {
   "cell_type": "code",
   "execution_count": 72,
   "id": "0b588d43",
   "metadata": {},
   "outputs": [
    {
     "name": "stdout",
     "output_type": "stream",
     "text": [
      "[[0.56098788 0.05016949 0.71072497 0.75757576 0.18181818 0.36666667]\n",
      " [0.94407603 0.14621469 0.24398234 0.75757576 0.         0.16666667]\n",
      " [0.29430437 0.80305085 0.49316337 0.86363636 0.54545455 0.86666667]\n",
      " ...\n",
      " [0.90025412 0.82655367 0.54030765 0.86363636 0.         0.36666667]\n",
      " [0.61771149 0.08519774 0.96845179 0.75757576 0.09090909 0.53333333]\n",
      " [0.90693164 0.84531073 0.04344111 0.93939394 0.54545455 0.9       ]]\n",
      "[ True  True  True  True  True  True]\n"
     ]
    }
   ],
   "source": [
    "test = pd.read_csv('datasets/offline_test.csv/offline_test.csv')\n",
    "test['Discount_rate'] = test['Discount_rate'].apply(convertRate)\n",
    "test['Distance'] = test['Distance'].apply(convertDistance)\n",
    "# print(test)\n",
    "test_normal = pd.DataFrame(min_max_scaler.fit_transform(test),columns=test.columns)\n",
    "print(test_normal.values)\n",
    "print(~np.isnan(test_normal.values).any(axis=0))"
   ]
  },
  {
   "attachments": {},
   "cell_type": "markdown",
   "id": "643321c2",
   "metadata": {},
   "source": [
    "导入数据集附带的测试数据，用作下一步系统测试"
   ]
  },
  {
   "attachments": {},
   "cell_type": "markdown",
   "id": "21738e68",
   "metadata": {},
   "source": [
    "#### 模型训练结果"
   ]
  },
  {
   "cell_type": "code",
   "execution_count": 82,
   "id": "32b0f160",
   "metadata": {},
   "outputs": [
    {
     "name": "stdout",
     "output_type": "stream",
     "text": [
      "accourcy=65.800000\tpre=63.390000\trecall=75.160000\tf1=68.770000\tauc=0.700000\n",
      "\n",
      "accourcy=65.690000\tpre=63.090000\trecall=75.400000\tf1=68.700000\tauc=0.700000\n",
      "\n",
      "accourcy=65.760000\tpre=63.280000\trecall=75.220000\tf1=68.740000\tauc=0.700000\n",
      "\n",
      "accourcy=65.910000\tpre=63.520000\trecall=75.120000\tf1=68.840000\tauc=0.700000\n",
      "\n",
      "accourcy=65.680000\tpre=63.010000\trecall=75.390000\tf1=68.650000\tauc=0.700000\n",
      "\n"
     ]
    },
    {
     "data": {
      "text/plain": [
       "array([65.768, 63.258, 75.258, 68.74 ,  0.7  ])"
      ]
     },
     "execution_count": 82,
     "metadata": {},
     "output_type": "execute_result"
    }
   ],
   "source": [
    "from sklearn.model_selection import train_test_split#留出法\n",
    "from sklearn.linear_model import LogisticRegression#线性回归分类器\n",
    "dt_rest=[]\n",
    "for times in range(5):\n",
    "    X_train,X_test,y_train,y_test = train_test_split(X_train_res,y_train_res,test_size=0.2, random_state=42+times)\n",
    "    #创建模型\n",
    "    mode=LogisticRegression()\n",
    "    mode.fit(X_train,y_train)\n",
    "    y_pre=mode.predict(X_test)\n",
    "    dt_rest.append(evaluate_mode(y_test,y_pre,mode,X_test))\n",
    "np.array(dt_rest).mean(axis=0)"
   ]
  },
  {
   "attachments": {},
   "cell_type": "markdown",
   "id": "fbb191fa",
   "metadata": {},
   "source": [
    "线性分类器训练结果"
   ]
  },
  {
   "cell_type": "code",
   "execution_count": 85,
   "id": "dab124c6",
   "metadata": {},
   "outputs": [
    {
     "name": "stdout",
     "output_type": "stream",
     "text": [
      "accourcy=77.200000\tpre=73.320000\trecall=85.660000\tf1=79.010000\tauc=0.850000\n",
      "\n",
      "accourcy=77.080000\tpre=73.240000\trecall=85.260000\tf1=78.790000\tauc=0.850000\n",
      "\n",
      "accourcy=77.170000\tpre=73.740000\trecall=84.440000\tf1=78.730000\tauc=0.850000\n",
      "\n",
      "accourcy=77.250000\tpre=73.400000\trecall=85.640000\tf1=79.050000\tauc=0.850000\n",
      "\n",
      "accourcy=77.100000\tpre=72.990000\trecall=85.810000\tf1=78.880000\tauc=0.850000\n",
      "\n"
     ]
    },
    {
     "data": {
      "text/plain": [
       "array([77.16 , 73.338, 85.362, 78.892,  0.85 ])"
      ]
     },
     "execution_count": 85,
     "metadata": {},
     "output_type": "execute_result"
    }
   ],
   "source": [
    "from sklearn.tree import DecisionTreeClassifier\n",
    "mode=DecisionTreeClassifier(criterion=\"entropy\",max_depth=10)\n",
    "    #mode=DecisionTreeClassifier(criterion=\"gini\",max_depth=10)\n",
    "dt_rest=[]\n",
    "pre_res_prob = []\n",
    "pre_res = []\n",
    "for times in range(5):\n",
    "    X_train,X_test,y_train,y_test = train_test_split(X_train_res,y_train_res,test_size=0.2, random_state=42+times)\n",
    "    mode.fit(X_train,y_train)\n",
    "    # print(X_train)\n",
    "    y_pre=mode.predict(X_test)\n",
    "    # print(X_test)\n",
    "    dt_rest.append(evaluate_mode(y_test,y_pre,mode,X_test))\n",
    "    test_predict_prob = mode.predict_proba(test_normal.values)\n",
    "    test_predict = mode.predict(test_normal.values)\n",
    "    pre_res_prob.append(test_predict_prob)\n",
    "    pre_res.append(test_predict)\n",
    "np.array(dt_rest).mean(axis=0)"
   ]
  },
  {
   "attachments": {},
   "cell_type": "markdown",
   "id": "6630e3ad",
   "metadata": {},
   "source": [
    "决策树训练结果"
   ]
  },
  {
   "attachments": {},
   "cell_type": "markdown",
   "id": "bf5eab44",
   "metadata": {},
   "source": [
    "![](RF_res.png)"
   ]
  },
  {
   "cell_type": "code",
   "execution_count": 87,
   "id": "73be6fa8",
   "metadata": {},
   "outputs": [
    {
     "name": "stdout",
     "output_type": "stream",
     "text": [
      "accourcy=78.710000\tpre=74.100000\trecall=88.060000\tf1=80.480000\tauc=0.880000\n",
      "\n"
     ]
    },
    {
     "name": "stderr",
     "output_type": "stream",
     "text": [
      "E:\\Anaconda3\\envs\\d2l-zh\\lib\\site-packages\\sklearn\\base.py:413: UserWarning: X has feature names, but RandomForestClassifier was fitted without feature names\n",
      "  warnings.warn(\n"
     ]
    },
    {
     "data": {
      "text/plain": [
       "array([78.71, 74.1 , 88.06, 80.48,  0.88])"
      ]
     },
     "execution_count": 87,
     "metadata": {},
     "output_type": "execute_result"
    }
   ],
   "source": [
    "from sklearn.ensemble import RandomForestClassifier\n",
    "dt_rest=[]\n",
    "for n_estimator in range(10,20,10):\n",
    "    rf_rest=[]\n",
    "    mode = RandomForestClassifier(n_estimators=n_estimator,criterion=\"entropy\",max_depth=10,max_features=3)\n",
    "    for times in range(5):\n",
    "        X_train,X_test,y_train,y_test = train_test_split(X_train_res,y_train_res,test_size=0.2, random_state=42+times)\n",
    "    mode.fit(X_train,y_train)\n",
    "    y_pre=mode.predict(X_test)\n",
    "    dt_rest.append(evaluate_mode(y_test,y_pre,mode,X_test))\n",
    "    test_predict_prob = mode.predict_proba(test)\n",
    "np.array(dt_rest).mean(axis=0)"
   ]
  },
  {
   "attachments": {},
   "cell_type": "markdown",
   "id": "184e3bd6",
   "metadata": {},
   "source": [
    "随机森林模型训练结果  \n",
    "随机森林的子树个数为10个，分支的标注：信息熵增益，最大特征个数为3个，使用留出法对样本进行拆分，并在验证集上做验证，求得的最后结果是0.88"
   ]
  },
  {
   "attachments": {},
   "cell_type": "markdown",
   "id": "d2b89937",
   "metadata": {},
   "source": [
    "效果最好的模型是RF，其次是DT模型，效果最差的是线性分类模型"
   ]
  },
  {
   "cell_type": "code",
   "execution_count": 88,
   "id": "efb952f9",
   "metadata": {},
   "outputs": [
    {
     "data": {
      "text/html": [
       "<div>\n",
       "<style scoped>\n",
       "    .dataframe tbody tr th:only-of-type {\n",
       "        vertical-align: middle;\n",
       "    }\n",
       "\n",
       "    .dataframe tbody tr th {\n",
       "        vertical-align: top;\n",
       "    }\n",
       "\n",
       "    .dataframe thead th {\n",
       "        text-align: right;\n",
       "    }\n",
       "</style>\n",
       "<table border=\"1\" class=\"dataframe\">\n",
       "  <thead>\n",
       "    <tr style=\"text-align: right;\">\n",
       "      <th></th>\n",
       "      <th>importance</th>\n",
       "    </tr>\n",
       "  </thead>\n",
       "  <tbody>\n",
       "    <tr>\n",
       "      <th>Distance</th>\n",
       "      <td>0.362866</td>\n",
       "    </tr>\n",
       "    <tr>\n",
       "      <th>Date_received</th>\n",
       "      <td>0.254168</td>\n",
       "    </tr>\n",
       "    <tr>\n",
       "      <th>Discount_rate</th>\n",
       "      <td>0.172629</td>\n",
       "    </tr>\n",
       "    <tr>\n",
       "      <th>Merchant_id</th>\n",
       "      <td>0.107076</td>\n",
       "    </tr>\n",
       "    <tr>\n",
       "      <th>Coupon_id</th>\n",
       "      <td>0.100411</td>\n",
       "    </tr>\n",
       "    <tr>\n",
       "      <th>User_id</th>\n",
       "      <td>0.002849</td>\n",
       "    </tr>\n",
       "  </tbody>\n",
       "</table>\n",
       "</div>"
      ],
      "text/plain": [
       "               importance\n",
       "Distance         0.362866\n",
       "Date_received    0.254168\n",
       "Discount_rate    0.172629\n",
       "Merchant_id      0.107076\n",
       "Coupon_id        0.100411\n",
       "User_id          0.002849"
      ]
     },
     "execution_count": 88,
     "metadata": {},
     "output_type": "execute_result"
    }
   ],
   "source": [
    "feature_imp = pd.DataFrame(mode.feature_importances_, index=X_data_normal.columns, columns=[\"importance\"])\n",
    "feature_imp.sort_values(\"importance\", ascending=False)"
   ]
  },
  {
   "attachments": {},
   "cell_type": "markdown",
   "id": "8bdb0ddc",
   "metadata": {},
   "source": [
    "计算模型评估出的特征的重要性排序   "
   ]
  },
  {
   "attachments": {},
   "cell_type": "markdown",
   "id": "933d63fa",
   "metadata": {},
   "source": [
    "### 3、图形界面设计与系统构建 \n",
    "为了提升系统的易用性和实用性，设计GUI界面构建系统，并设计完成系统的前后端交互"
   ]
  },
  {
   "cell_type": "code",
   "execution_count": 89,
   "id": "72e98e19",
   "metadata": {},
   "outputs": [],
   "source": [
    "import tkinter as tk\n",
    "from tkinter import ttk\n",
    "from pre_data import convertDistance, convertRate\n",
    "\n",
    "\n",
    "class APP:\n",
    "    def __init__(self,selected_option=None):\n",
    "        self.selected_option = selected_option\n",
    "        #if self.selected_opti == Option 1 \n",
    "           # linear()\n",
    "        #print(self.selected_option)\n",
    "\n",
    "    def on_button_click(self, info):\n",
    "        print(\"Yes button clicked!\",self.selected_option)\n",
    "        # infomation = [\n",
    "        #                 float(user_id), float(merchant_id), float(coupon_id), \n",
    "        #                 convertRate(discount_rate), convertDistance(distance), float(date)\n",
    "        #               ]\n",
    "        # info = pd.DataFrame(infomation)\n",
    "        if self.selected_option == \"linear\":\n",
    "            prob3 = linear(info)\n",
    "        if self.selected_option == \"DT\":\n",
    "            prob3 = DT(info)\n",
    "        if self.selected_option == \"RF\":\n",
    "            prob3 = RF(info)\n",
    "        return prob3\n",
    "\n",
    "class GUI:\n",
    "    def __init__(self):\n",
    "        self.root = tk.Tk()\n",
    "        self.root.title(\"User Info\")\n",
    "        self.root.geometry(\"600x450\")\n",
    "        self.create_widgets()\n",
    "\n",
    "    def on_yes_button_click(self, user_id, merchant_id, coupon_id, distance, discount_rate, date):\n",
    "        selected_option = self.parameter.get()\n",
    "        print(\"call the app with the option selected!\", selected_option)\n",
    "        # print(info)\n",
    "        if distance == 'null':\n",
    "            infomation = {\n",
    "                            'User_id' : float(user_id),\n",
    "                            'Merchant_id' : float(merchant_id), \n",
    "                            'Coupon_id' : float(coupon_id),  \n",
    "                            'Distance' : None,\n",
    "                            'Date_received' : convertRate(discount_rate), \n",
    "                            'Discount_rate' : float(date),  \n",
    "                         }          \n",
    "        else:\n",
    "            infomation = {\n",
    "                            'User_id' : float(user_id),\n",
    "                            'Merchant_id' : float(merchant_id), \n",
    "                            'Coupon_id' : float(coupon_id),  \n",
    "                            'Distance' : convertDistance(distance),\n",
    "                            'Date_received' : convertRate(discount_rate), \n",
    "                            'Discount_rate' : float(date),  \n",
    "                         }       \n",
    "        info = pd.DataFrame(infomation, index=[0])\n",
    "        # info['User_id'] = float(user_id)\n",
    "        # info['Merchant_id'] = float(merchant_id)\n",
    "        # info['Coupon_id'] = float(coupon_id)\n",
    "        # info['Discount_rate'] = convertRate(discount_rate)\n",
    "        # if distance == 'null':\n",
    "        #     info['Distance'] = np.nan\n",
    "        # else:\n",
    "        #     info['Distance'] = convertDistance(distance)\n",
    "        # info['Date_received'] = float(date)\n",
    "        print(info)\n",
    "        # info_normal = pd.DataFrame(min_max_scaler.fit_transform(info),columns=info.columns)\n",
    "        # print(info_normal)\n",
    "\n",
    "        app = APP(selected_option)\n",
    "        res = app.on_button_click(info.values)\n",
    "        self.show_res(res)\n",
    "\n",
    "    def show_res(self, res):\n",
    "        # self.parameter = tk.StringVar()\n",
    "        var_res_prob = tk.StringVar()\n",
    "        \n",
    "        print(res)\n",
    "        print(res[0][1])\n",
    "        date_label = ttk.Label(self.root, text=\"Prob:\")\n",
    "        date_label.place(x=50,y=210)\n",
    "        var_res_prob.set(str(res[0][1]))\n",
    "\n",
    "        res_label = tk.Label(self.root, textvariable=var_res_prob)\n",
    "        res_label.pack()\n",
    "        # var_res_prob.set(str(res[0][1]))\n",
    "        res_label.place(x=130, y=210)\n",
    "\n",
    "    def close_window(self):\n",
    "        self.root.destroy()\n",
    "\n",
    "    def create_widgets(self):\n",
    "        self.parameter = tk.StringVar()\n",
    "\n",
    "        # User ID Label\n",
    "        var_user_id = tk.StringVar()\n",
    "        user_id_label = ttk.Label(self.root, text=\"User ID:\")\n",
    "        user_id_label.place(x=50,y=50)\n",
    "\n",
    "        entry_user_id = ttk.Entry(self.root, textvariable=var_user_id)\n",
    "        entry_user_id.place(x=130, y=50)\n",
    "        \n",
    "\n",
    "        var_merchant_id = tk.StringVar()\n",
    "        merchant_id_label = ttk.Label(self.root, text=\"Merchant ID:\")\n",
    "        merchant_id_label.place(x=300,y=50)\n",
    "\n",
    "        entry_merchant_id = ttk.Entry(self.root, textvariable=var_merchant_id)\n",
    "        entry_merchant_id.place(x=380, y=50)\n",
    "\n",
    "        var_discount_rate = tk.StringVar()\n",
    "        discount_rate = ttk.Label(self.root, text=\"Discount rate:\")\n",
    "        discount_rate.place(x=300,y=80)\n",
    "\n",
    "        entry_discount_rate = ttk.Entry(self.root, textvariable=var_discount_rate)\n",
    "        entry_discount_rate.place(x=390, y=80)\n",
    "\n",
    "        var_distance = tk.StringVar()\n",
    "        distance = ttk.Label(self.root, text=\"Distance:\")\n",
    "        distance.place(x=300,y=110)\n",
    "\n",
    "        entry_distance = ttk.Entry(self.root, textvariable=var_distance)\n",
    "        entry_distance.place(x=380, y=110)\n",
    "\n",
    "        var_coupon_id = tk.StringVar()\n",
    "        coupon_id_label = ttk.Label(self.root, text=\"Coupon ID:\")\n",
    "        coupon_id_label.place(x=50,y=80)\n",
    "\n",
    "        entry_coupon_id = ttk.Entry(self.root, textvariable=var_coupon_id)\n",
    "        entry_coupon_id.place(x=130, y=80)\n",
    "\n",
    "        var_date = tk.StringVar()\n",
    "        date_label = ttk.Label(self.root, text=\"Date received:\")\n",
    "        date_label.place(x=50,y=110)\n",
    "\n",
    "        entry_date = ttk.Entry(self.root, textvariable=var_date)\n",
    "        entry_date.place(x=130, y=110)\n",
    "\n",
    "        # Combobox with some options\n",
    "        combobox_label = ttk.Label(self.root, text=\"Combobox:\")\n",
    "        combobox_label.place(x=50,y=140)\n",
    "\n",
    "        options = [\"linear\", \"DT\", \"RF\"]\n",
    "        combo_box = ttk.Combobox(self.root, values=options, textvariable=self.parameter)\n",
    "        combo_box.place(x=130, y=140)\n",
    "\n",
    "        # Yes and No buttons to submit all input information\n",
    "        # var = entry_user_id.get() == '' or entry_merchant_id.get() == '' or entry_coupon_id.get() == '' or entry_distance.get() == '' or entry_discount_rate.get() == '' or entry_date.get() == ''\n",
    "        # while var:\n",
    "        #     pass\n",
    "        # infomation = [\n",
    "        #                 float(entry_user_id.get()), float(entry_merchant_id.get()), float(entry_coupon_id.get()), \n",
    "        #                 convertRate(entry_discount_rate.get()), convertDistance(entry_distance.get()), float(entry_date.get())\n",
    "        #               ]\n",
    "        # info = pd.DataFrame(infomation)\n",
    "        yes_button = ttk.Button(self.root, text=\"Submit\", command=lambda:self.on_yes_button_click(entry_user_id.get(), entry_merchant_id.get(),\n",
    "                                                                                                  entry_coupon_id.get(), entry_distance.get(),\n",
    "                                                                                                  entry_discount_rate.get(), entry_date.get()))\n",
    "        yes_button.place(x=50, y=180)\n",
    "\n",
    "\n",
    "        no_button = ttk.Button(self.root, text=\"Cancel\", command=self.close_window)\n",
    "        no_button.place(x=150,y=180)\n",
    "\n",
    "\n",
    "if __name__ == \"__main__\":\n",
    "    gui = GUI()\n",
    "    gui.root.mainloop()"
   ]
  },
  {
   "attachments": {},
   "cell_type": "markdown",
   "id": "cbf87e34",
   "metadata": {},
   "source": [
    "运行以上代码，即可打开系统界面，在对应的位置填入要预测的信息，选择适使用的预测模型，点击提交。   \n",
    "经过计算之后，会在下方返回针对此条信息的用户对应的优惠券核销概率。"
   ]
  },
  {
   "attachments": {},
   "cell_type": "markdown",
   "id": "be186321",
   "metadata": {},
   "source": [
    "![](images/GUI_res.png)"
   ]
  },
  {
   "attachments": {},
   "cell_type": "markdown",
   "id": "e478225f",
   "metadata": {},
   "source": [
    "## 四、总结"
   ]
  },
  {
   "attachments": {},
   "cell_type": "markdown",
   "id": "721c7932",
   "metadata": {},
   "source": [
    "1. 通过对RF模型的参数重要性排序结果来看，对于输入模型的属性，Distance的重要性最高，这也说明了店铺距离是影响优惠券核销的重要因素。商家可以从中获得启示，要多针对距离近的消费者设计优惠策略与方案，这样才能获得最佳的用户流量和收益。\n",
    "2. 因为label样本分布不均衡，使用SMOTE进行样本的再均衡，提高了预测的可靠性。\n",
    "3. 使用留出法对样本进行拆分，并多次运行求模型运行的平均效能。\n",
    "4. 可以使用更多的模型进行预测分析，比如XGBoost等，本项目使用的RF在AUC评测指标上能能达到0.88的结果。\n",
    "5. 此项目的数据的特征维度较低，若遇到较高的数据维度，为了避免维数诅咒，需要结合randomForestClassify以及REF对特征进行特征选择或使用降维方法进行数据降维。\n",
    "6. 使用数据挖掘技术，找到了相应的核销率潜在规律，商家下次发放优惠券时可以先使用本系统预测优惠券的核销率，看看此次优惠券的设计与发放策略能否达到预期的流量和收益，与成本等因素是否匹配。\n",
    "7. 项目对于数据做了详尽的分析（用户画像、组合特征分析、商家画像等等），并可视化了相应的结果，尽可能的挖据出了数据的内在规律，为商家的优惠策略提供了一定的参考，并对相关领域的商业策略设计、数据分析等方面提供了启发和思路。\n",
    "8. 根据上课作报告时与老师的讨论，本项目可以继续改进，以达到更实用的效果，具体改进方向如下：\n",
    "   - 针对参数重要性较高的几个属性，可以设计一个优化消费券核销率的建议系统，提示商家设计的优惠策略的不足之处，以及可以针对那些属性进行改进，以达到收获更大流量和收益的目的。\n",
    "   - 可以适当收集更多的数据和属性，以达到更好的预测效果。\n",
    "   - 针对用户画像的分析和组合特征的分析，分析出某一类用户（如高活跃度用户）对应的特征之后，可以进一步应用于优惠券改进策略中，比如针对高活跃度用户，分析其特征（距离、优惠券折扣率等），设计针对此类画像用户的通用吸引方案，以达到增加客流量和收益的目的。商家可以结合自身需求和特点来决定使用哪种类型的通用方案，用于吸引对应画像类型的潜在用户。\n",
    "   - 系统的应用方面不光局限于优惠券核销率，还可以用于分析针对特定商家如何吸引更多的顾客，增加客流量：对于某一商家的属于不同用户画像的用户类群如何设计不同的优惠策略以吸引用户到来、增加流量和收益（如，对于新用户，是否发放优惠力度更大的优惠券；对于老用户，发放的优惠券折扣率是否跟上次一样等等），这一改进方案更加侧重于对不同的商家专门分析其用户的特点和类型，而非通用于大类用户。"
   ]
  },
  {
   "attachments": {},
   "cell_type": "markdown",
   "id": "71be0736",
   "metadata": {},
   "source": []
  }
 ],
 "metadata": {
  "kernelspec": {
   "display_name": "Python [conda env:d2l-zh] *",
   "language": "python",
   "name": "conda-env-d2l-zh-py"
  },
  "language_info": {
   "codemirror_mode": {
    "name": "ipython",
    "version": 3
   },
   "file_extension": ".py",
   "mimetype": "text/x-python",
   "name": "python",
   "nbconvert_exporter": "python",
   "pygments_lexer": "ipython3",
   "version": "3.8.0"
  }
 },
 "nbformat": 4,
 "nbformat_minor": 5
}
